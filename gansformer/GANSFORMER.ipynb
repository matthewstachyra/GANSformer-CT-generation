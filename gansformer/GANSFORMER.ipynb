{
 "cells": [
  {
   "cell_type": "markdown",
   "metadata": {},
   "source": [
    "# GANSFORMER\n",
    "---------------\n",
    "This notebook needs to be ran inside of the Tensorflow 1.15 Py3 GPU Docker container.\n",
    "\n",
    "## Docker Configuration\n",
    "If running this container for the first time, the lines in the cell below must be executed. We install requirements, install certain required Linux packages from APT, and define environment variables needed to compile the custom CUDA ops."
   ]
  },
  {
   "cell_type": "code",
   "execution_count": 2,
   "metadata": {
    "scrolled": false
   },
   "outputs": [],
   "source": [
    "# # Prep Tensorflow Docker with required software and libraries\n",
    "# !apt-get update\n",
    "# !apt-get install ffmpeg libsm6 libxext6 -y\n",
    "# !pip install -r requirements.txt\n",
    "# !pip install joblib \n",
    "\n",
    "# # Set ENV variables for compiling TF ops\n",
    "# !export PATH=/usr/local/cuda-10.0/bin${PATH:+:${PATH}}\n",
    "# !export LD_LIBRARY_PATH=/usr/local/cuda-10.0/lib64${LD_LIBRARY_PATH:+:${LD_LIBRARY_PATH}}"
   ]
  },
  {
   "cell_type": "code",
   "execution_count": 2,
   "metadata": {},
   "outputs": [
    {
     "name": "stdout",
     "output_type": "stream",
     "text": [
      "Python 3.6.9\r\n"
     ]
    }
   ],
   "source": [
    "!python3 --version"
   ]
  },
  {
   "cell_type": "code",
   "execution_count": 3,
   "metadata": {
    "scrolled": true
   },
   "outputs": [
    {
     "name": "stdout",
     "output_type": "stream",
     "text": [
      "Mon Dec  6 16:56:06 2021       \r\n",
      "+-----------------------------------------------------------------------------+\r\n",
      "| NVIDIA-SMI 470.86       Driver Version: 470.86       CUDA Version: 11.4     |\r\n",
      "|-------------------------------+----------------------+----------------------+\r\n",
      "| GPU  Name        Persistence-M| Bus-Id        Disp.A | Volatile Uncorr. ECC |\r\n",
      "| Fan  Temp  Perf  Pwr:Usage/Cap|         Memory-Usage | GPU-Util  Compute M. |\r\n",
      "|                               |                      |               MIG M. |\r\n",
      "|===============================+======================+======================|\r\n",
      "|   0  NVIDIA GeForce ...  Off  | 00000000:09:00.0  On |                  N/A |\r\n",
      "| 40%   34C    P8    22W / 260W |    951MiB / 10985MiB |      2%      Default |\r\n",
      "|                               |                      |                  N/A |\r\n",
      "+-------------------------------+----------------------+----------------------+\r\n",
      "                                                                               \r\n",
      "+-----------------------------------------------------------------------------+\r\n",
      "| Processes:                                                                  |\r\n",
      "|  GPU   GI   CI        PID   Type   Process name                  GPU Memory |\r\n",
      "|        ID   ID                                                   Usage      |\r\n",
      "|=============================================================================|\r\n",
      "+-----------------------------------------------------------------------------+\r\n"
     ]
    }
   ],
   "source": [
    "!nvidia-smi"
   ]
  },
  {
   "cell_type": "code",
   "execution_count": 3,
   "metadata": {},
   "outputs": [
    {
     "name": "stdout",
     "output_type": "stream",
     "text": [
      "194921\r\n"
     ]
    }
   ],
   "source": [
    "# Verify lung data volume mounted in container\n",
    "!ls data | wc -l"
   ]
  },
  {
   "cell_type": "code",
   "execution_count": 4,
   "metadata": {},
   "outputs": [],
   "source": [
    "import os\n",
    "import shutil\n",
    "from PIL import Image\n",
    "from joblib import Parallel, delayed\n",
    "import cv2"
   ]
  },
  {
   "cell_type": "markdown",
   "metadata": {},
   "source": [
    "---------------\n",
    "## Build COVIDx Dataset\n",
    "To keep things simple, we will utilize the tools provided by the team that developed gansformer. Here, we need to create a dataset so we have TF Records for the covidx image data.\n",
    "\n",
    "Notes:\n",
    "- Had to update `dnnlib/tflib/custom_ops.py` to account for TF 1.15 and allow multi cpu.\n",
    "- Modify `dataset_tool.py` to capture image shape errors.\n",
    "- Process all images so they are the same size, as the documentation is misleading."
   ]
  },
  {
   "cell_type": "code",
   "execution_count": 9,
   "metadata": {},
   "outputs": [],
   "source": [
    "# # Related to update of dnnlib\n",
    "# !rm -rf /external_code/gan/gansformer/dnnlib/tflib/cudacache/"
   ]
  },
  {
   "cell_type": "markdown",
   "metadata": {},
   "source": [
    "With the changes, we need to verify that the container is correctly configured and ready to compile the CUDA functions. `test_nvcc.cu` was pulled from the StyleGAN2 repo, as it was not available within the Gansformer library."
   ]
  },
  {
   "cell_type": "code",
   "execution_count": 4,
   "metadata": {},
   "outputs": [
    {
     "name": "stdout",
     "output_type": "stream",
     "text": [
      "CPU says hello.\n",
      "GPU says hello.\n"
     ]
    }
   ],
   "source": [
    "!nvcc test_nvcc.cu -o test_nvcc -run"
   ]
  },
  {
   "cell_type": "markdown",
   "metadata": {},
   "source": [
    "#### Comments\n",
    "There were issues creating a custom dataset using the provided tools. After opening up an issue on Github, I was informed that `prepare_data.py` sorts the files alphabetically. Thus, when I was trying to catch malformed images, I was actually moving ones that weren't causing the errors. I modified the the assert statment so that it would provided information on file issues. Here we see that there is a file of size 1024x1024. The data object stores the first image size as `self.shape` and expects all following images to be the same size."
   ]
  },
  {
   "cell_type": "code",
   "execution_count": 7,
   "metadata": {},
   "outputs": [
    {
     "name": "stdout",
     "output_type": "stream",
     "text": [
      "\u001b[1mPreparing the covidx dataset...\u001b[0m\n",
      "Loading images from data\n",
      "  8%|██▋                               | 15340/194921 [12:45<2:29:15, 20.05it/s]\n",
      "Traceback (most recent call last):\n",
      "  File \"prepare_data.py\", line 217, in <module>\n",
      "    run_cmdline(sys.argv)\n",
      "  File \"prepare_data.py\", line 214, in run_cmdline\n",
      "    prepare(**vars(args))\n",
      "  File \"prepare_data.py\", line 185, in prepare\n",
      "    shards_num = shards_num, max_imgs = max_images)\n",
      "  File \"prepare_data.py\", line 78, in <lambda>\n",
      "    \"png\": lambda tfdir, imgdir, **kwargs: dataset_tool.create_from_imgs(tfdir, imgdir, format = \"png\", **kwargs),\n",
      "  File \"/tf/notebooks/Final Project/gansformer/dataset_tool.py\", line 696, in create_from_imgs\n",
      "    tfr.add_img(img)\n",
      "  File \"/tf/notebooks/Final Project/gansformer/dataset_tool.py\", line 84, in add_img\n",
      "    assert img.shape == self.shape, f'Img: {img.shape} Self: {self.shape} \\n {img}'\n",
      "AssertionError: Img: (3, 1024, 1024) Self: (3, 512, 512) \n",
      " [[[0 0 0 ... 0 0 0]\n",
      "  [0 0 0 ... 0 0 0]\n",
      "  [0 0 0 ... 0 0 0]\n",
      "  ...\n",
      "  [0 0 0 ... 0 0 0]\n",
      "  [0 0 0 ... 0 0 0]\n",
      "  [0 0 0 ... 0 0 0]]\n",
      "\n",
      " [[0 0 0 ... 0 0 0]\n",
      "  [0 0 0 ... 0 0 0]\n",
      "  [0 0 0 ... 0 0 0]\n",
      "  ...\n",
      "  [0 0 0 ... 0 0 0]\n",
      "  [0 0 0 ... 0 0 0]\n",
      "  [0 0 0 ... 0 0 0]]\n",
      "\n",
      " [[0 0 0 ... 0 0 0]\n",
      "  [0 0 0 ... 0 0 0]\n",
      "  [0 0 0 ... 0 0 0]\n",
      "  ...\n",
      "  [0 0 0 ... 0 0 0]\n",
      "  [0 0 0 ... 0 0 0]\n",
      "  [0 0 0 ... 0 0 0]]]\n"
     ]
    }
   ],
   "source": [
    "!python prepare_data.py \\\n",
    "--task covidx \\\n",
    "--images-dir 'data' \\\n",
    "--format png --ratio 0.7 \\\n",
    "--shards-num 20 --max-images 194921"
   ]
  },
  {
   "cell_type": "code",
   "execution_count": null,
   "metadata": {},
   "outputs": [],
   "source": [
    "def resize_img(path):\n",
    "    \"\"\"\n",
    "    Resize the images to 512x512 so the TF Record can be compiled.\n",
    "    \"\"\"\n",
    "    temp_img = cv2.imread(path)\n",
    "    temp_img = cv2.resize(temp_img, (512, 512))\n",
    "    cv2.imwrite(path, temp_img)\n",
    "        \n",
    "# Process all images    \n",
    "files = [os.path.join('data', x) for x in os.listdir('data')]\n",
    "\n",
    "Parallel(n_jobs=24)(delayed(resize_img)(path) for path in files)"
   ]
  },
  {
   "cell_type": "markdown",
   "metadata": {},
   "source": [
    "## DATASET IS BUILT DO NOT RERUN"
   ]
  },
  {
   "cell_type": "markdown",
   "metadata": {},
   "source": [
    "STOP!"
   ]
  },
  {
   "cell_type": "code",
   "execution_count": 24,
   "metadata": {
    "scrolled": true
   },
   "outputs": [
    {
     "name": "stdout",
     "output_type": "stream",
     "text": [
      "\u001b[1mPreparing the covidx dataset...\u001b[0m\n",
      "Loading images from data\n",
      "100%|█████████████████████████████████| 194921/194921 [2:56:18<00:00, 18.43it/s]\n",
      "\u001b[1m\u001b[34mCompleted preparations for covidx!\u001b[0m\n"
     ]
    }
   ],
   "source": [
    "!python prepare_data.py \\\n",
    "--task covidx \\\n",
    "--images-dir 'data' \\\n",
    "--format png --ratio 0.7 \\\n",
    "--shards-num 20 --max-images 194921"
   ]
  },
  {
   "cell_type": "markdown",
   "metadata": {},
   "source": [
    "------------------------------\n",
    "# Train GANSFORMER\n",
    "Starting with the clever dataset, we will continue training on our covid lung dataset. The hope is to transition this model to a new domain, without having to train for over a week using 8 or so GPUs. As the model trains, output will be generated in the `/gansformer/results/clever-*` directory. This includes model weights saved as a pickle file, as well has generated images and attention maps."
   ]
  },
  {
   "cell_type": "code",
   "execution_count": 10,
   "metadata": {
    "scrolled": false
   },
   "outputs": [
    {
     "name": "stdout",
     "output_type": "stream",
     "text": [
      "\u001b[1m\u001b[37mStart model training from scratch\u001b[0m\n",
      "Local submit - run_dir: results/clevr-scratch-000\n",
      "dnnlib: Running training.training_loop.training_loop() on localhost...\n",
      "\u001b[1m\u001b[37mStreaming data using training.dataset.TFRecordDataset datasets...\u001b[0m\n",
      "Dataset shape:  \u001b[1m\u001b[34m[3, 256, 256]\u001b[0m\n",
      "Dynamic range:  \u001b[1m\u001b[34m[0, 255]\u001b[0m\n",
      "\u001b[1m\u001b[37mConstructing networks...\u001b[0m\n",
      "Setting up TensorFlow plugin 'fused_bias_act.cu': Preprocessing... Compiling... Loading... Done.\n",
      "Setting up TensorFlow plugin 'upfirdn_2d.cu': Preprocessing... Compiling... Loading... Done.\n",
      "\n",
      "\u001b[1m\u001b[34mG                                            Params    OutputShape         WeightShape     \u001b[0m\n",
      "---                                          ---       ---                 ---             \n",
      "\u001b[1mltnt_emb/emb\u001b[0m                                 512       (16, 32)            (16, 32)        \n",
      "\u001b[1mG_mapping/AttLayer_0\u001b[0m                         6336      (?, 32)             -               \n",
      "\u001b[1mG_mapping/Dense0_0\u001b[0m                           1056      (?, 32)             (32, 32)        \n",
      "\u001b[1mG_mapping/Dense0_1\u001b[0m                           1056      (?, 32)             (32, 32)        \n",
      "\u001b[1mG_mapping/AttLayer_1\u001b[0m                         6336      (?, 32)             -               \n",
      "\u001b[1mG_mapping/Dense1_0\u001b[0m                           1056      (?, 32)             (32, 32)        \n",
      "\u001b[1mG_mapping/Dense1_1\u001b[0m                           1056      (?, 32)             (32, 32)        \n",
      "\u001b[1mG_mapping/AttLayer_2\u001b[0m                         6336      (?, 32)             -               \n",
      "\u001b[1mG_mapping/Dense2_0\u001b[0m                           1056      (?, 32)             (32, 32)        \n",
      "\u001b[1mG_mapping/Dense2_1\u001b[0m                           1056      (?, 32)             (32, 32)        \n",
      "\u001b[1mG_mapping/AttLayer_3\u001b[0m                         6336      (?, 32)             -               \n",
      "\u001b[1mG_mapping/Dense3_0\u001b[0m                           1056      (?, 32)             (32, 32)        \n",
      "\u001b[1mG_mapping/Dense3_1\u001b[0m                           1056      (?, 32)             (32, 32)        \n",
      "\u001b[1mG_mapping/Dense3\u001b[0m                             1056      (?, 32)             (32, 32)        \n",
      "\u001b[1mG_mapping/global\u001b[0m                             9504      (?, 32)             (32, 32)        \n",
      "\u001b[1mG_synthesis/4x4/Const\u001b[0m                        8192      (?, 512, 4, 4)      (1, 512, 4, 4)  \n",
      "\u001b[1mG_synthesis/4x4/Conv/AttLayer_l2n\u001b[0m            610304    (?, 512)            -               \n",
      "\u001b[1mG_synthesis/4x4/Conv/weight\u001b[0m                  2359296   (3, 3, 512, 512)    (3, 3, 512, 512)\n",
      "\u001b[1mG_synthesis/4x4/Conv/mod_weight\u001b[0m              16384     (32, 512)           (32, 512)       \n",
      "\u001b[1mG_synthesis/4x4/Conv/mod_bias\u001b[0m                512       (512,)              (512,)          \n",
      "\u001b[1mG_synthesis/4x4/Conv/noise_strength\u001b[0m          1         ()                  ()              \n",
      "\u001b[1mG_synthesis/4x4/Conv/bias\u001b[0m                    512       (512,)              (512,)          \n",
      "\u001b[1mG_synthesis/8x8/Conv0_up/AttLayer_l2n\u001b[0m        610304    (?, 512)            -               \n",
      "\u001b[1mG_synthesis/8x8/Conv0_up/weight\u001b[0m              2359296   (3, 3, 512, 512)    (3, 3, 512, 512)\n",
      "\u001b[1mG_synthesis/8x8/Conv0_up/mod_weight\u001b[0m          16384     (32, 512)           (32, 512)       \n",
      "\u001b[1mG_synthesis/8x8/Conv0_up/mod_bias\u001b[0m            512       (512,)              (512,)          \n",
      "\u001b[1mG_synthesis/8x8/Conv0_up/noise_strength\u001b[0m      1         ()                  ()              \n",
      "\u001b[1mG_synthesis/8x8/Conv0_up/bias\u001b[0m                512       (512,)              (512,)          \n",
      "\u001b[1mG_synthesis/8x8/Conv1/AttLayer_l2n\u001b[0m           610304    (?, 512)            -               \n",
      "\u001b[1mG_synthesis/8x8/Conv1/weight\u001b[0m                 2359296   (3, 3, 512, 512)    (3, 3, 512, 512)\n",
      "\u001b[1mG_synthesis/8x8/Conv1/mod_weight\u001b[0m             16384     (32, 512)           (32, 512)       \n",
      "\u001b[1mG_synthesis/8x8/Conv1/mod_bias\u001b[0m               512       (512,)              (512,)          \n",
      "\u001b[1mG_synthesis/8x8/Conv1/noise_strength\u001b[0m         1         ()                  ()              \n",
      "\u001b[1mG_synthesis/8x8/Conv1/bias\u001b[0m                   512       (512,)              (512,)          \n",
      "\u001b[1mG_synthesis/8x8/Skip\u001b[0m                         262144    (?, 512, 8, 8)      (1, 1, 512, 512)\n",
      "\u001b[1mG_synthesis/16x16/Conv0_up/AttLayer_l2n\u001b[0m      610304    (?, 512)            -               \n",
      "\u001b[1mG_synthesis/16x16/Conv0_up/weight\u001b[0m            2359296   (3, 3, 512, 512)    (3, 3, 512, 512)\n",
      "\u001b[1mG_synthesis/16x16/Conv0_up/mod_weight\u001b[0m        16384     (32, 512)           (32, 512)       \n",
      "\u001b[1mG_synthesis/16x16/Conv0_up/mod_bias\u001b[0m          512       (512,)              (512,)          \n",
      "\u001b[1mG_synthesis/16x16/Conv0_up/noise_strength\u001b[0m    1         ()                  ()              \n",
      "\u001b[1mG_synthesis/16x16/Conv0_up/bias\u001b[0m              512       (512,)              (512,)          \n",
      "\u001b[1mG_synthesis/16x16/Conv1/AttLayer_l2n\u001b[0m         610304    (?, 512)            -               \n",
      "\u001b[1mG_synthesis/16x16/Conv1/weight\u001b[0m               2359296   (3, 3, 512, 512)    (3, 3, 512, 512)\n",
      "\u001b[1mG_synthesis/16x16/Conv1/mod_weight\u001b[0m           16384     (32, 512)           (32, 512)       \n",
      "\u001b[1mG_synthesis/16x16/Conv1/mod_bias\u001b[0m             512       (512,)              (512,)          \n",
      "\u001b[1mG_synthesis/16x16/Conv1/noise_strength\u001b[0m       1         ()                  ()              \n",
      "\u001b[1mG_synthesis/16x16/Conv1/bias\u001b[0m                 512       (512,)              (512,)          \n",
      "\u001b[1mG_synthesis/16x16/Skip\u001b[0m                       262144    (?, 512, 16, 16)    (1, 1, 512, 512)\n",
      "\u001b[1mG_synthesis/32x32/Conv0_up/AttLayer_l2n\u001b[0m      610304    (?, 512)            -               \n",
      "\u001b[1mG_synthesis/32x32/Conv0_up/weight\u001b[0m            2359296   (3, 3, 512, 512)    (3, 3, 512, 512)\n",
      "\u001b[1mG_synthesis/32x32/Conv0_up/mod_weight\u001b[0m        16384     (32, 512)           (32, 512)       \n",
      "\u001b[1mG_synthesis/32x32/Conv0_up/mod_bias\u001b[0m          512       (512,)              (512,)          \n",
      "\u001b[1mG_synthesis/32x32/Conv0_up/noise_strength\u001b[0m    1         ()                  ()              \n",
      "\u001b[1mG_synthesis/32x32/Conv0_up/bias\u001b[0m              512       (512,)              (512,)          \n",
      "\u001b[1mG_synthesis/32x32/Conv1/AttLayer_l2n\u001b[0m         610304    (?, 512)            -               \n",
      "\u001b[1mG_synthesis/32x32/Conv1/weight\u001b[0m               2359296   (3, 3, 512, 512)    (3, 3, 512, 512)\n",
      "\u001b[1mG_synthesis/32x32/Conv1/mod_weight\u001b[0m           16384     (32, 512)           (32, 512)       \n",
      "\u001b[1mG_synthesis/32x32/Conv1/mod_bias\u001b[0m             512       (512,)              (512,)          \n",
      "\u001b[1mG_synthesis/32x32/Conv1/noise_strength\u001b[0m       1         ()                  ()              \n",
      "\u001b[1mG_synthesis/32x32/Conv1/bias\u001b[0m                 512       (512,)              (512,)          \n",
      "\u001b[1mG_synthesis/32x32/Skip\u001b[0m                       262144    (?, 512, 32, 32)    (1, 1, 512, 512)\n",
      "\u001b[1mG_synthesis/64x64/Conv0_up/AttLayer_l2n\u001b[0m      610304    (?, 512)            -               \n",
      "\u001b[1mG_synthesis/64x64/Conv0_up/weight\u001b[0m            2359296   (3, 3, 512, 512)    (3, 3, 512, 512)\n",
      "\u001b[1mG_synthesis/64x64/Conv0_up/mod_weight\u001b[0m        16384     (32, 512)           (32, 512)       \n",
      "\u001b[1mG_synthesis/64x64/Conv0_up/mod_bias\u001b[0m          512       (512,)              (512,)          \n",
      "\u001b[1mG_synthesis/64x64/Conv0_up/noise_strength\u001b[0m    1         ()                  ()              \n",
      "\u001b[1mG_synthesis/64x64/Conv0_up/bias\u001b[0m              512       (512,)              (512,)          \n",
      "\u001b[1mG_synthesis/64x64/Conv1/AttLayer_l2n\u001b[0m         610304    (?, 512)            -               \n",
      "\u001b[1mG_synthesis/64x64/Conv1/weight\u001b[0m               2359296   (3, 3, 512, 512)    (3, 3, 512, 512)\n",
      "\u001b[1mG_synthesis/64x64/Conv1/mod_weight\u001b[0m           16384     (32, 512)           (32, 512)       \n",
      "\u001b[1mG_synthesis/64x64/Conv1/mod_bias\u001b[0m             512       (512,)              (512,)          \n",
      "\u001b[1mG_synthesis/64x64/Conv1/noise_strength\u001b[0m       1         ()                  ()              \n",
      "\u001b[1mG_synthesis/64x64/Conv1/bias\u001b[0m                 512       (512,)              (512,)          \n",
      "\u001b[1mG_synthesis/64x64/Skip\u001b[0m                       262144    (?, 512, 64, 64)    (1, 1, 512, 512)\n",
      "\u001b[1mG_synthesis/128x128/Conv0_up/AttLayer_l2n\u001b[0m    174080    (?, 256)            -               \n",
      "\u001b[1mG_synthesis/128x128/Conv0_up/weight\u001b[0m          1179648   (3, 3, 512, 256)    (3, 3, 512, 256)\n",
      "\u001b[1mG_synthesis/128x128/Conv0_up/mod_weight\u001b[0m      16384     (32, 512)           (32, 512)       \n",
      "\u001b[1mG_synthesis/128x128/Conv0_up/mod_bias\u001b[0m        512       (512,)              (512,)          \n",
      "\u001b[1mG_synthesis/128x128/Conv0_up/noise_strength\u001b[0m  1         ()                  ()              \n",
      "\u001b[1mG_synthesis/128x128/Conv0_up/bias\u001b[0m            256       (256,)              (256,)          \n",
      "\u001b[1mG_synthesis/128x128/Conv1/AttLayer_l2n\u001b[0m       174080    (?, 256)            -               \n",
      "\u001b[1mG_synthesis/128x128/Conv1/weight\u001b[0m             589824    (3, 3, 256, 256)    (3, 3, 256, 256)\n",
      "\u001b[1mG_synthesis/128x128/Conv1/mod_weight\u001b[0m         8192      (32, 256)           (32, 256)       \n",
      "\u001b[1mG_synthesis/128x128/Conv1/mod_bias\u001b[0m           256       (256,)              (256,)          \n",
      "\u001b[1mG_synthesis/128x128/Conv1/noise_strength\u001b[0m     1         ()                  ()              \n",
      "\u001b[1mG_synthesis/128x128/Conv1/bias\u001b[0m               256       (256,)              (256,)          \n",
      "\u001b[1mG_synthesis/128x128/Skip\u001b[0m                     131072    (?, 256, 128, 128)  (1, 1, 512, 256)\n",
      "\u001b[1mG_synthesis/256x256\u001b[0m                          644357    (?, 3, 256, 256)    (1, 1, 256, 128)\n",
      "---                                          ---       ---                 ---             \n",
      "\u001b[1m\u001b[31mTotal                                        30903632                                      \u001b[0m\n",
      "\n"
     ]
    },
    {
     "name": "stdout",
     "output_type": "stream",
     "text": [
      "\n",
      "\u001b[1m\u001b[34mD                   Params    OutputShape         WeightShape     \u001b[0m\n",
      "---                 ---       ---                 ---             \n",
      "\u001b[1mltnt_emb/emb\u001b[0m        512       (16, 32)            (16, 32)        \n",
      "\u001b[1m256x256/FromRGB\u001b[0m     512       (?, 128, 256, 256)  (1, 1, 3, 128)  \n",
      "\u001b[1m256x256/Conv0\u001b[0m       147584    (?, 128, 256, 256)  (3, 3, 128, 128)\n",
      "\u001b[1m256x256/Conv1_down\u001b[0m  295168    (?, 256, 128, 128)  (3, 3, 128, 256)\n",
      "\u001b[1m256x256/Skip\u001b[0m        32768     (?, 256, 128, 128)  (1, 1, 128, 256)\n",
      "\u001b[1m128x128/Conv0\u001b[0m       590080    (?, 256, 128, 128)  (3, 3, 256, 256)\n",
      "\u001b[1m128x128/Conv1_down\u001b[0m  1180160   (?, 512, 64, 64)    (3, 3, 256, 512)\n",
      "\u001b[1m128x128/Skip\u001b[0m        131072    (?, 512, 64, 64)    (1, 1, 256, 512)\n",
      "\u001b[1m64x64/Conv0\u001b[0m         2359808   (?, 512, 64, 64)    (3, 3, 512, 512)\n",
      "\u001b[1m64x64/Conv1_down\u001b[0m    2359808   (?, 512, 32, 32)    (3, 3, 512, 512)\n",
      "\u001b[1m64x64/Skip\u001b[0m          262144    (?, 512, 32, 32)    (1, 1, 512, 512)\n",
      "\u001b[1m32x32/Conv0\u001b[0m         2359808   (?, 512, 32, 32)    (3, 3, 512, 512)\n",
      "\u001b[1m32x32/Conv1_down\u001b[0m    2359808   (?, 512, 16, 16)    (3, 3, 512, 512)\n",
      "\u001b[1m32x32/Skip\u001b[0m          262144    (?, 512, 16, 16)    (1, 1, 512, 512)\n",
      "\u001b[1m16x16/Conv0\u001b[0m         2359808   (?, 512, 16, 16)    (3, 3, 512, 512)\n",
      "\u001b[1m16x16/Conv1_down\u001b[0m    2359808   (?, 512, 8, 8)      (3, 3, 512, 512)\n",
      "\u001b[1m16x16/Skip\u001b[0m          262144    (?, 512, 8, 8)      (1, 1, 512, 512)\n",
      "\u001b[1m8x8/Conv0\u001b[0m           2359808   (?, 512, 8, 8)      (3, 3, 512, 512)\n",
      "\u001b[1m8x8/Conv1_down\u001b[0m      2359808   (?, 512, 4, 4)      (3, 3, 512, 512)\n",
      "\u001b[1m8x8/Skip\u001b[0m            262144    (?, 512, 4, 4)      (1, 1, 512, 512)\n",
      "\u001b[1m4x4/Conv\u001b[0m            2364416   (?, 512, 4, 4)      (3, 3, 513, 512)\n",
      "\u001b[1m4x4/Dense0\u001b[0m          4194816   (?, 512)            (8192, 512)     \n",
      "\u001b[1mOutput/weight\u001b[0m       512       (512, 1)            (512, 1)        \n",
      "\u001b[1mOutput/bias\u001b[0m         1         (1,)                (1,)            \n",
      "---                 ---       ---                 ---             \n",
      "\u001b[1m\u001b[31mTotal               28864641                                      \u001b[0m\n",
      "\n",
      "\u001b[1m\u001b[37mBuilding TensorFlow graph...\u001b[0m\n",
      "\u001b[1m\u001b[37mInitializing logs...\u001b[0m\n",
      "\u001b[1m\u001b[37mTraining for 25000 kimg...\u001b[0m\n",
      "tick \u001b[1m0    \u001b[0m kimg \u001b[1m\u001b[31m     0.1\u001b[0m   loss/reg: G (\u001b[1m\u001b[34m 5.986\u001b[0m \u001b[1m 0.000\u001b[0m) D (\u001b[1m\u001b[34m 1.223\u001b[0m \u001b[1m 0.000\u001b[0m)   grad norms: G (\u001b[1m\u001b[31m21.920\u001b[0m  0.000) D ( 1.860  0.010)   time \u001b[1m49s       \u001b[0m sec/kimg  380.45 maxGPU  7.4GB \u001b[1mclevr-scratch\u001b[0m \n",
      "Downloading http://d36zk2xti64re0.cloudfront.net/stylegan1/networks/metrics/inception_v3_features.pkl ... done\n",
      "network-snapshot-000000        time 6m 10s      \u001b[1m\u001b[34m fid 329.2672  \u001b[0m\n",
      "tick \u001b[1m1    \u001b[0m kimg \u001b[1m\u001b[31m     8.2\u001b[0m   loss/reg: G (\u001b[1m\u001b[34m 8.618\u001b[0m \u001b[1m 0.000\u001b[0m) D (\u001b[1m\u001b[34m 0.727\u001b[0m \u001b[1m 0.018\u001b[0m)   grad norms: G (\u001b[1m\u001b[31m33.854\u001b[0m  0.000) D ( 1.453  0.031)   time \u001b[1m34m 13s   \u001b[0m sec/kimg  198.45 maxGPU  7.4GB \u001b[1mclevr-scratch\u001b[0m \n",
      "tick \u001b[1m2    \u001b[0m kimg \u001b[1m\u001b[31m    16.3\u001b[0m   loss/reg: G (\u001b[1m\u001b[34m 5.820\u001b[0m \u001b[1m 0.000\u001b[0m) D (\u001b[1m\u001b[34m 0.508\u001b[0m \u001b[1m 0.034\u001b[0m)   grad norms: G (\u001b[1m\u001b[31m21.579\u001b[0m  0.000) D ( 1.281  0.070)   time \u001b[1m1h 00m 41s\u001b[0m sec/kimg  196.98 maxGPU  7.4GB \u001b[1mclevr-scratch\u001b[0m \n",
      "tick \u001b[1m3    \u001b[0m kimg \u001b[1m\u001b[31m    24.3\u001b[0m   loss/reg: G (\u001b[1m\u001b[34m 3.792\u001b[0m \u001b[1m 0.000\u001b[0m) D (\u001b[1m\u001b[34m 0.672\u001b[0m \u001b[1m 0.054\u001b[0m)   grad norms: G (13.693  0.000) D ( 1.714  0.120)   time \u001b[1m1h 27m 14s\u001b[0m sec/kimg  197.53 maxGPU  7.4GB \u001b[1mclevr-scratch\u001b[0m \n",
      "network-snapshot-000024        time 5m 24s      \u001b[1m\u001b[34m fid 316.2193  \u001b[0m\n",
      "tick \u001b[1m4    \u001b[0m kimg \u001b[1m\u001b[31m    32.4\u001b[0m   loss/reg: G (\u001b[1m\u001b[34m 3.248\u001b[0m \u001b[1m 0.000\u001b[0m) D (\u001b[1m\u001b[34m 0.662\u001b[0m \u001b[1m 0.070\u001b[0m)   grad norms: G (12.582  0.000) D ( 2.166  0.268)   time \u001b[1m1h 59m 24s\u001b[0m sec/kimg  198.17 maxGPU  7.4GB \u001b[1mclevr-scratch\u001b[0m \n",
      "tick \u001b[1m5    \u001b[0m kimg \u001b[1m\u001b[31m    40.4\u001b[0m   loss/reg: G (\u001b[1m\u001b[34m 2.622\u001b[0m \u001b[1m 0.000\u001b[0m) D (\u001b[1m\u001b[34m 0.778\u001b[0m \u001b[1m 0.072\u001b[0m)   grad norms: G ( 8.056  0.000) D ( 2.953  0.275)   time \u001b[1m2h 24m 41s\u001b[0m sec/kimg  188.10 maxGPU  7.4GB \u001b[1mclevr-scratch\u001b[0m \n",
      "tick \u001b[1m6    \u001b[0m kimg \u001b[1m\u001b[31m    48.5\u001b[0m   loss/reg: G (\u001b[1m\u001b[34m 2.225\u001b[0m \u001b[1m 0.000\u001b[0m) D (\u001b[1m\u001b[34m 0.880\u001b[0m \u001b[1m 0.092\u001b[0m)   grad norms: G ( 7.037  0.000) D ( 3.128  0.275)   time \u001b[1m2h 50m 54s\u001b[0m sec/kimg  195.06 maxGPU  7.4GB \u001b[1mclevr-scratch\u001b[0m \n",
      "network-snapshot-000048        time 5m 09s      \u001b[1m\u001b[34m fid 276.6766  \u001b[0m\n",
      "tick \u001b[1m7    \u001b[0m kimg \u001b[1m\u001b[31m    56.6\u001b[0m   loss/reg: G (\u001b[1m\u001b[34m 2.032\u001b[0m \u001b[1m 0.000\u001b[0m) D (\u001b[1m\u001b[34m 0.847\u001b[0m \u001b[1m 0.071\u001b[0m)   grad norms: G ( 4.613  0.000) D ( 3.304  0.295)   time \u001b[1m3h 22m 34s\u001b[0m sec/kimg  196.33 maxGPU  7.4GB \u001b[1mclevr-scratch\u001b[0m \n",
      "tick \u001b[1m8    \u001b[0m kimg \u001b[1m\u001b[31m    64.6\u001b[0m   loss/reg: G (\u001b[1m\u001b[34m 1.639\u001b[0m \u001b[1m 0.000\u001b[0m) D (\u001b[1m\u001b[34m 0.991\u001b[0m \u001b[1m 0.066\u001b[0m)   grad norms: G ( 3.551  0.000) D ( 4.023  0.317)   time \u001b[1m3h 48m 43s\u001b[0m sec/kimg  194.56 maxGPU  7.4GB \u001b[1mclevr-scratch\u001b[0m \n",
      "tick \u001b[1m9    \u001b[0m kimg \u001b[1m\u001b[31m    72.7\u001b[0m   loss/reg: G (\u001b[1m\u001b[34m 1.411\u001b[0m \u001b[1m 0.000\u001b[0m) D (\u001b[1m\u001b[34m 1.126\u001b[0m \u001b[1m 0.066\u001b[0m)   grad norms: G ( 2.945  0.000) D ( 4.465  0.327)   time \u001b[1m4h 15m 20s\u001b[0m sec/kimg  198.13 maxGPU  7.4GB \u001b[1mclevr-scratch\u001b[0m \n",
      "network-snapshot-000072        time 5m 17s      \u001b[1m\u001b[34m fid 297.8114  \u001b[0m\n",
      "tick \u001b[1m10   \u001b[0m kimg \u001b[1m\u001b[31m    80.8\u001b[0m   loss/reg: G (\u001b[1m\u001b[34m 1.330\u001b[0m \u001b[1m 0.000\u001b[0m) D (\u001b[1m\u001b[34m 1.160\u001b[0m \u001b[1m 0.073\u001b[0m)   grad norms: G ( 3.134  0.000) D ( 5.198  0.337)   time \u001b[1m4h 45m 03s\u001b[0m sec/kimg  180.61 maxGPU  7.4GB \u001b[1mclevr-scratch\u001b[0m \n",
      "tick \u001b[1m11   \u001b[0m kimg \u001b[1m\u001b[31m    88.8\u001b[0m   loss/reg: G (\u001b[1m\u001b[34m 1.319\u001b[0m \u001b[1m 0.000\u001b[0m) D (\u001b[1m\u001b[34m 1.132\u001b[0m \u001b[1m 0.082\u001b[0m)   grad norms: G ( 3.185  0.000) D ( 5.013  0.343)   time \u001b[1m5h 09m 24s\u001b[0m sec/kimg  181.12 maxGPU  7.4GB \u001b[1mclevr-scratch\u001b[0m \n",
      "tick \u001b[1m12   \u001b[0m kimg \u001b[1m\u001b[31m    96.9\u001b[0m   loss/reg: G (\u001b[1m\u001b[34m 1.488\u001b[0m \u001b[1m 0.000\u001b[0m) D (\u001b[1m\u001b[34m 1.036\u001b[0m \u001b[1m 0.082\u001b[0m)   grad norms: G ( 3.419  0.000) D ( 4.778  0.360)   time \u001b[1m5h 33m 38s\u001b[0m sec/kimg  180.39 maxGPU  7.4GB \u001b[1mclevr-scratch\u001b[0m \n",
      "network-snapshot-000096        time 4m 56s      \u001b[1m\u001b[34m fid 240.3064  \u001b[0m\n",
      "tick \u001b[1m13   \u001b[0m kimg \u001b[1m\u001b[31m   105.0\u001b[0m   loss/reg: G (\u001b[1m\u001b[34m 1.408\u001b[0m \u001b[1m 0.000\u001b[0m) D (\u001b[1m\u001b[34m 1.064\u001b[0m \u001b[1m 0.078\u001b[0m)   grad norms: G ( 3.623  0.000) D ( 4.579  0.373)   time \u001b[1m6h 05m 05s\u001b[0m sec/kimg  196.17 maxGPU  7.4GB \u001b[1mclevr-scratch\u001b[0m \n",
      "tick \u001b[1m14   \u001b[0m kimg \u001b[1m\u001b[31m   113.0\u001b[0m   loss/reg: G (\u001b[1m\u001b[34m 1.273\u001b[0m \u001b[1m 0.000\u001b[0m) D (\u001b[1m\u001b[34m 1.145\u001b[0m \u001b[1m 0.074\u001b[0m)   grad norms: G ( 3.515  0.000) D ( 4.649  0.375)   time \u001b[1m6h 31m 28s\u001b[0m sec/kimg  196.32 maxGPU  7.4GB \u001b[1mclevr-scratch\u001b[0m \n",
      "tick \u001b[1m15   \u001b[0m kimg \u001b[1m\u001b[31m   121.1\u001b[0m   loss/reg: G (\u001b[1m\u001b[34m 1.248\u001b[0m \u001b[1m 0.000\u001b[0m) D (\u001b[1m\u001b[34m 1.134\u001b[0m \u001b[1m 0.074\u001b[0m)   grad norms: G ( 3.616  0.000) D ( 4.633  0.392)   time \u001b[1m6h 57m 55s\u001b[0m sec/kimg  196.71 maxGPU  7.4GB \u001b[1mclevr-scratch\u001b[0m \n",
      "network-snapshot-000121        time 5m 21s      \u001b[1m\u001b[34m fid 172.2366  \u001b[0m\n",
      "tick \u001b[1m16   \u001b[0m kimg \u001b[1m\u001b[31m   129.2\u001b[0m   loss/reg: G (\u001b[1m\u001b[34m 1.213\u001b[0m \u001b[1m 0.000\u001b[0m) D (\u001b[1m\u001b[34m 1.153\u001b[0m \u001b[1m 0.073\u001b[0m)   grad norms: G ( 3.721  0.000) D ( 4.468  0.395)   time \u001b[1m7h 29m 40s\u001b[0m sec/kimg  195.29 maxGPU  7.4GB \u001b[1mclevr-scratch\u001b[0m \n",
      "tick \u001b[1m17   \u001b[0m kimg \u001b[1m\u001b[31m   137.2\u001b[0m   loss/reg: G (\u001b[1m\u001b[34m 1.265\u001b[0m \u001b[1m 0.000\u001b[0m) D (\u001b[1m\u001b[34m 1.108\u001b[0m \u001b[1m 0.070\u001b[0m)   grad norms: G ( 4.358  0.000) D ( 4.250  0.401)   time \u001b[1m7h 54m 56s\u001b[0m sec/kimg  187.97 maxGPU  7.4GB \u001b[1mclevr-scratch\u001b[0m \n",
      "tick \u001b[1m18   \u001b[0m kimg \u001b[1m\u001b[31m   145.3\u001b[0m   loss/reg: G (\u001b[1m\u001b[34m 1.259\u001b[0m \u001b[1m 0.000\u001b[0m) D (\u001b[1m\u001b[34m 1.092\u001b[0m \u001b[1m 0.077\u001b[0m)   grad norms: G ( 4.721  0.000) D ( 4.169  0.414)   time \u001b[1m8h 21m 12s\u001b[0m sec/kimg  195.45 maxGPU  7.4GB \u001b[1mclevr-scratch\u001b[0m \n",
      "network-snapshot-000145        time 5m 17s      \u001b[1m\u001b[34m fid 129.9083  \u001b[0m\n",
      "tick \u001b[1m19   \u001b[0m kimg \u001b[1m\u001b[31m   153.3\u001b[0m   loss/reg: G (\u001b[1m\u001b[34m 1.208\u001b[0m \u001b[1m 0.000\u001b[0m) D (\u001b[1m\u001b[34m 1.131\u001b[0m \u001b[1m 0.076\u001b[0m)   grad norms: G ( 4.580  0.000) D ( 4.223  0.414)   time \u001b[1m8h 52m 52s\u001b[0m sec/kimg  195.22 maxGPU  7.4GB \u001b[1mclevr-scratch\u001b[0m \n"
     ]
    },
    {
     "name": "stdout",
     "output_type": "stream",
     "text": [
      "tick \u001b[1m20   \u001b[0m kimg \u001b[1m\u001b[31m   161.4\u001b[0m   loss/reg: G (\u001b[1m\u001b[34m 1.289\u001b[0m \u001b[1m 0.000\u001b[0m) D (\u001b[1m\u001b[34m 1.106\u001b[0m \u001b[1m 0.084\u001b[0m)   grad norms: G ( 4.960  0.000) D ( 4.468  0.422)   time \u001b[1m9h 19m 11s\u001b[0m sec/kimg  195.81 maxGPU  7.4GB \u001b[1mclevr-scratch\u001b[0m \n",
      "tick \u001b[1m21   \u001b[0m kimg \u001b[1m\u001b[31m   169.5\u001b[0m   loss/reg: G (\u001b[1m\u001b[34m 1.260\u001b[0m \u001b[1m 0.000\u001b[0m) D (\u001b[1m\u001b[34m 1.073\u001b[0m \u001b[1m 0.086\u001b[0m)   grad norms: G ( 5.172  0.000) D ( 4.133  0.437)   time \u001b[1m9h 45m 27s\u001b[0m sec/kimg  195.48 maxGPU  7.4GB \u001b[1mclevr-scratch\u001b[0m \n",
      "network-snapshot-000169        time 5m 19s      \u001b[1m\u001b[34m fid 95.8610   \u001b[0m\n",
      "tick \u001b[1m22   \u001b[0m kimg \u001b[1m\u001b[31m   177.5\u001b[0m   loss/reg: G (\u001b[1m\u001b[34m 1.310\u001b[0m \u001b[1m 0.000\u001b[0m) D (\u001b[1m\u001b[34m 1.060\u001b[0m \u001b[1m 0.095\u001b[0m)   grad norms: G ( 6.001  0.000) D ( 3.942  0.458)   time \u001b[1m10h 17m 12s\u001b[0m sec/kimg  195.48 maxGPU  7.4GB \u001b[1mclevr-scratch\u001b[0m \n",
      "tick \u001b[1m23   \u001b[0m kimg \u001b[1m\u001b[31m   185.6\u001b[0m   loss/reg: G (\u001b[1m\u001b[34m 1.316\u001b[0m \u001b[1m 0.000\u001b[0m) D (\u001b[1m\u001b[34m 1.031\u001b[0m \u001b[1m 0.093\u001b[0m)   grad norms: G ( 6.168  0.000) D ( 3.644  0.466)   time \u001b[1m10h 43m 28s\u001b[0m sec/kimg  195.46 maxGPU  7.4GB \u001b[1mclevr-scratch\u001b[0m \n",
      "tick \u001b[1m24   \u001b[0m kimg \u001b[1m\u001b[31m   193.7\u001b[0m   loss/reg: G (\u001b[1m\u001b[34m 1.244\u001b[0m \u001b[1m 0.000\u001b[0m) D (\u001b[1m\u001b[34m 1.049\u001b[0m \u001b[1m 0.085\u001b[0m)   grad norms: G ( 5.491  0.000) D ( 3.301  0.472)   time \u001b[1m11h 09m 14s\u001b[0m sec/kimg  191.72 maxGPU  7.4GB \u001b[1mclevr-scratch\u001b[0m \n",
      "network-snapshot-000193        time 5m 09s      \u001b[1m\u001b[34m fid 80.3610   \u001b[0m\n",
      "tick \u001b[1m25   \u001b[0m kimg \u001b[1m\u001b[31m   201.7\u001b[0m   loss/reg: G (\u001b[1m\u001b[34m 1.283\u001b[0m \u001b[1m 0.000\u001b[0m) D (\u001b[1m\u001b[34m 1.055\u001b[0m \u001b[1m 0.088\u001b[0m)   grad norms: G ( 5.737  0.000) D ( 3.299  0.485)   time \u001b[1m11h 40m 35s\u001b[0m sec/kimg  193.66 maxGPU  7.4GB \u001b[1mclevr-scratch\u001b[0m \n",
      "tick \u001b[1m26   \u001b[0m kimg \u001b[1m\u001b[31m   209.8\u001b[0m   loss/reg: G (\u001b[1m\u001b[34m 1.215\u001b[0m \u001b[1m 0.000\u001b[0m) D (\u001b[1m\u001b[34m 1.092\u001b[0m \u001b[1m 0.086\u001b[0m)   grad norms: G ( 5.655  0.000) D ( 3.337  0.493)   time \u001b[1m12h 07m 12s\u001b[0m sec/kimg  198.06 maxGPU  7.4GB \u001b[1mclevr-scratch\u001b[0m \n",
      "tick \u001b[1m27   \u001b[0m kimg \u001b[1m\u001b[31m   217.9\u001b[0m   loss/reg: G (\u001b[1m\u001b[34m 1.280\u001b[0m \u001b[1m 0.000\u001b[0m) D (\u001b[1m\u001b[34m 1.063\u001b[0m \u001b[1m 0.085\u001b[0m)   grad norms: G ( 5.954  0.000) D ( 3.216  0.499)   time \u001b[1m12h 33m 42s\u001b[0m sec/kimg  197.17 maxGPU  7.4GB \u001b[1mclevr-scratch\u001b[0m \n",
      "network-snapshot-000217        time 5m 18s      \u001b[1m\u001b[34m fid 70.1629   \u001b[0m\n",
      "tick \u001b[1m28   \u001b[0m kimg \u001b[1m\u001b[31m   225.9\u001b[0m   loss/reg: G (\u001b[1m\u001b[34m 1.259\u001b[0m \u001b[1m 0.000\u001b[0m) D (\u001b[1m\u001b[34m 1.056\u001b[0m \u001b[1m 0.089\u001b[0m)   grad norms: G ( 6.293  0.000) D ( 3.155  0.500)   time \u001b[1m13h 05m 40s\u001b[0m sec/kimg  197.23 maxGPU  7.4GB \u001b[1mclevr-scratch\u001b[0m \n",
      "tick \u001b[1m29   \u001b[0m kimg \u001b[1m\u001b[31m   234.0\u001b[0m   loss/reg: G (\u001b[1m\u001b[34m 1.205\u001b[0m \u001b[1m 0.000\u001b[0m) D (\u001b[1m\u001b[34m 1.095\u001b[0m \u001b[1m 0.095\u001b[0m)   grad norms: G ( 6.725  0.000) D ( 3.299  0.509)   time \u001b[1m13h 32m 08s\u001b[0m sec/kimg  196.87 maxGPU  7.4GB \u001b[1mclevr-scratch\u001b[0m \n",
      "tick \u001b[1m30   \u001b[0m kimg \u001b[1m\u001b[31m   242.0\u001b[0m   loss/reg: G (\u001b[1m\u001b[34m 1.224\u001b[0m \u001b[1m 0.000\u001b[0m) D (\u001b[1m\u001b[34m 1.047\u001b[0m \u001b[1m 0.099\u001b[0m)   grad norms: G ( 6.662  0.000) D ( 3.194  0.519)   time \u001b[1m13h 58m 37s\u001b[0m sec/kimg  197.10 maxGPU  7.4GB \u001b[1mclevr-scratch\u001b[0m \n",
      "network-snapshot-000242        time 5m 21s      \u001b[1m\u001b[34m fid 66.6787   \u001b[0m\n",
      "tick \u001b[1m31   \u001b[0m kimg \u001b[1m\u001b[31m   250.1\u001b[0m   loss/reg: G (\u001b[1m\u001b[34m 1.176\u001b[0m \u001b[1m 0.000\u001b[0m) D (\u001b[1m\u001b[34m 1.030\u001b[0m \u001b[1m 0.094\u001b[0m)   grad norms: G ( 6.100  0.000) D ( 3.113  0.527)   time \u001b[1m14h 29m 47s\u001b[0m sec/kimg  190.92 maxGPU  7.4GB \u001b[1mclevr-scratch\u001b[0m \n",
      "tick \u001b[1m32   \u001b[0m kimg \u001b[1m\u001b[31m   258.2\u001b[0m   loss/reg: G (\u001b[1m\u001b[34m 1.209\u001b[0m \u001b[1m 0.000\u001b[0m) D (\u001b[1m\u001b[34m 1.011\u001b[0m \u001b[1m 0.097\u001b[0m)   grad norms: G ( 6.376  0.000) D ( 3.105  0.540)   time \u001b[1m14h 55m 33s\u001b[0m sec/kimg  191.69 maxGPU  7.4GB \u001b[1mclevr-scratch\u001b[0m \n",
      "tick \u001b[1m33   \u001b[0m kimg \u001b[1m\u001b[31m   266.2\u001b[0m   loss/reg: G (\u001b[1m\u001b[34m 1.209\u001b[0m \u001b[1m 0.000\u001b[0m) D (\u001b[1m\u001b[34m 1.037\u001b[0m \u001b[1m 0.098\u001b[0m)   grad norms: G ( 6.566  0.000) D ( 3.130  0.554)   time \u001b[1m15h 21m 17s\u001b[0m sec/kimg  191.51 maxGPU  7.4GB \u001b[1mclevr-scratch\u001b[0m \n",
      "network-snapshot-000266        time 5m 09s      \u001b[1m\u001b[34m fid 67.0488   \u001b[0m\n",
      "tick \u001b[1m34   \u001b[0m kimg \u001b[1m\u001b[31m   274.3\u001b[0m   loss/reg: G (\u001b[1m\u001b[34m 1.181\u001b[0m \u001b[1m 0.000\u001b[0m) D (\u001b[1m\u001b[34m 1.008\u001b[0m \u001b[1m 0.088\u001b[0m)   grad norms: G ( 6.132  0.000) D ( 2.784  0.556)   time \u001b[1m15h 52m 22s\u001b[0m sec/kimg  191.71 maxGPU  7.4GB \u001b[1mclevr-scratch\u001b[0m \n",
      "tick \u001b[1m35   \u001b[0m kimg \u001b[1m\u001b[31m   282.4\u001b[0m   loss/reg: G (\u001b[1m\u001b[34m 1.229\u001b[0m \u001b[1m 0.000\u001b[0m) D (\u001b[1m\u001b[34m 1.017\u001b[0m \u001b[1m 0.095\u001b[0m)   grad norms: G ( 6.494  0.000) D ( 2.793  0.563)   time \u001b[1m16h 18m 08s\u001b[0m sec/kimg  191.74 maxGPU  7.4GB \u001b[1mclevr-scratch\u001b[0m \n",
      "tick \u001b[1m36   \u001b[0m kimg \u001b[1m\u001b[31m   290.4\u001b[0m   loss/reg: G (\u001b[1m\u001b[34m 1.182\u001b[0m \u001b[1m 0.000\u001b[0m) D (\u001b[1m\u001b[34m 1.027\u001b[0m \u001b[1m 0.099\u001b[0m)   grad norms: G ( 6.400  0.000) D ( 2.951  0.578)   time \u001b[1m16h 43m 54s\u001b[0m sec/kimg  191.66 maxGPU  7.4GB \u001b[1mclevr-scratch\u001b[0m \n",
      "network-snapshot-000290        time 5m 15s      \u001b[1m\u001b[34m fid 60.1922   \u001b[0m\n",
      "tick \u001b[1m37   \u001b[0m kimg \u001b[1m\u001b[31m   298.5\u001b[0m   loss/reg: G (\u001b[1m\u001b[34m 1.176\u001b[0m \u001b[1m 0.000\u001b[0m) D (\u001b[1m\u001b[34m 1.014\u001b[0m \u001b[1m 0.094\u001b[0m)   grad norms: G ( 6.558  0.000) D ( 2.788  0.585)   time \u001b[1m17h 15m 02s\u001b[0m sec/kimg  191.44 maxGPU  7.4GB \u001b[1mclevr-scratch\u001b[0m \n",
      "tick \u001b[1m38   \u001b[0m kimg \u001b[1m\u001b[31m   306.6\u001b[0m   loss/reg: G (\u001b[1m\u001b[34m 1.144\u001b[0m \u001b[1m 0.000\u001b[0m) D (\u001b[1m\u001b[34m 1.053\u001b[0m \u001b[1m 0.092\u001b[0m)   grad norms: G ( 6.303  0.000) D ( 2.802  0.591)   time \u001b[1m17h 40m 47s\u001b[0m sec/kimg  191.57 maxGPU  7.4GB \u001b[1mclevr-scratch\u001b[0m \n",
      "tick \u001b[1m39   \u001b[0m kimg \u001b[1m\u001b[31m   314.6\u001b[0m   loss/reg: G (\u001b[1m\u001b[34m 1.139\u001b[0m \u001b[1m 0.000\u001b[0m) D (\u001b[1m\u001b[34m 1.072\u001b[0m \u001b[1m 0.094\u001b[0m)   grad norms: G ( 6.516  0.000) D ( 2.822  0.595)   time \u001b[1m18h 06m 31s\u001b[0m sec/kimg  191.56 maxGPU  7.4GB \u001b[1mclevr-scratch\u001b[0m \n",
      "network-snapshot-000314        time 5m 09s      \u001b[1m\u001b[34m fid 59.5865   \u001b[0m\n",
      "tick \u001b[1m40   \u001b[0m kimg \u001b[1m\u001b[31m   322.7\u001b[0m   loss/reg: G (\u001b[1m\u001b[34m 1.141\u001b[0m \u001b[1m 0.000\u001b[0m) D (\u001b[1m\u001b[34m 1.029\u001b[0m \u001b[1m 0.095\u001b[0m)   grad norms: G ( 6.133  0.000) D ( 2.520  0.598)   time \u001b[1m18h 37m 34s\u001b[0m sec/kimg  191.48 maxGPU  7.4GB \u001b[1mclevr-scratch\u001b[0m \n",
      "tick \u001b[1m41   \u001b[0m kimg \u001b[1m\u001b[31m   330.8\u001b[0m   loss/reg: G (\u001b[1m\u001b[34m 1.105\u001b[0m \u001b[1m 0.000\u001b[0m) D (\u001b[1m\u001b[34m 1.073\u001b[0m \u001b[1m 0.089\u001b[0m)   grad norms: G ( 6.023  0.000) D ( 2.687  0.602)   time \u001b[1m19h 03m 17s\u001b[0m sec/kimg  191.29 maxGPU  7.4GB \u001b[1mclevr-scratch\u001b[0m \n",
      "tick \u001b[1m42   \u001b[0m kimg \u001b[1m\u001b[31m   338.8\u001b[0m   loss/reg: G (\u001b[1m\u001b[34m 1.142\u001b[0m \u001b[1m 0.000\u001b[0m) D (\u001b[1m\u001b[34m 1.046\u001b[0m \u001b[1m 0.092\u001b[0m)   grad norms: G ( 6.498  0.000) D ( 2.694  0.607)   time \u001b[1m19h 29m 01s\u001b[0m sec/kimg  191.48 maxGPU  7.4GB \u001b[1mclevr-scratch\u001b[0m \n",
      "network-snapshot-000338        time 5m 09s      \u001b[1m\u001b[34m fid 54.1667   \u001b[0m\n",
      "tick \u001b[1m43   \u001b[0m kimg \u001b[1m\u001b[31m   346.9\u001b[0m   loss/reg: G (\u001b[1m\u001b[34m 1.080\u001b[0m \u001b[1m 0.000\u001b[0m) D (\u001b[1m\u001b[34m 1.073\u001b[0m \u001b[1m 0.081\u001b[0m)   grad norms: G ( 5.754  0.000) D ( 2.461  0.605)   time \u001b[1m20h 00m 03s\u001b[0m sec/kimg  191.44 maxGPU  7.4GB \u001b[1mclevr-scratch\u001b[0m \n",
      "tick \u001b[1m44   \u001b[0m kimg \u001b[1m\u001b[31m   354.9\u001b[0m   loss/reg: G (\u001b[1m\u001b[34m 1.108\u001b[0m \u001b[1m 0.000\u001b[0m) D (\u001b[1m\u001b[34m 1.052\u001b[0m \u001b[1m 0.086\u001b[0m)   grad norms: G ( 6.172  0.000) D ( 2.503  0.600)   time \u001b[1m20h 25m 49s\u001b[0m sec/kimg  191.72 maxGPU  7.4GB \u001b[1mclevr-scratch\u001b[0m \n",
      "tick \u001b[1m45   \u001b[0m kimg \u001b[1m\u001b[31m   363.0\u001b[0m   loss/reg: G (\u001b[1m\u001b[34m 1.102\u001b[0m \u001b[1m 0.000\u001b[0m) D (\u001b[1m\u001b[34m 1.055\u001b[0m \u001b[1m 0.089\u001b[0m)   grad norms: G ( 5.620  0.000) D ( 2.475  0.603)   time \u001b[1m20h 51m 39s\u001b[0m sec/kimg  192.22 maxGPU  7.4GB \u001b[1mclevr-scratch\u001b[0m \n",
      "network-snapshot-000363        time 5m 12s      \u001b[1m\u001b[34m fid 47.4300   \u001b[0m\n",
      "tick \u001b[1m46   \u001b[0m kimg \u001b[1m\u001b[31m   371.1\u001b[0m   loss/reg: G (\u001b[1m\u001b[34m 1.046\u001b[0m \u001b[1m 0.000\u001b[0m) D (\u001b[1m\u001b[34m 1.069\u001b[0m \u001b[1m 0.083\u001b[0m)   grad norms: G ( 5.529  0.000) D ( 2.496  0.607)   time \u001b[1m21h 22m 55s\u001b[0m sec/kimg  192.82 maxGPU  7.4GB \u001b[1mclevr-scratch\u001b[0m \n",
      "tick \u001b[1m47   \u001b[0m kimg \u001b[1m\u001b[31m   379.1\u001b[0m   loss/reg: G (\u001b[1m\u001b[34m 1.093\u001b[0m \u001b[1m 0.000\u001b[0m) D (\u001b[1m\u001b[34m 1.048\u001b[0m \u001b[1m 0.093\u001b[0m)   grad norms: G ( 6.517  0.000) D ( 2.651  0.617)   time \u001b[1m21h 48m 51s\u001b[0m sec/kimg  192.97 maxGPU  7.4GB \u001b[1mclevr-scratch\u001b[0m \n",
      "tick \u001b[1m48   \u001b[0m kimg \u001b[1m\u001b[31m   387.2\u001b[0m   loss/reg: G (\u001b[1m\u001b[34m 1.069\u001b[0m \u001b[1m 0.000\u001b[0m) D (\u001b[1m\u001b[34m 1.068\u001b[0m \u001b[1m 0.088\u001b[0m)   grad norms: G ( 6.316  0.000) D ( 2.617  0.616)   time \u001b[1m22h 14m 48s\u001b[0m sec/kimg  193.06 maxGPU  7.4GB \u001b[1mclevr-scratch\u001b[0m \n"
     ]
    },
    {
     "name": "stdout",
     "output_type": "stream",
     "text": [
      "network-snapshot-000387        time 5m 19s      \u001b[1m\u001b[34m fid 47.2564   \u001b[0m\n",
      "tick \u001b[1m49   \u001b[0m kimg \u001b[1m\u001b[31m   395.3\u001b[0m   loss/reg: G (\u001b[1m\u001b[34m 1.068\u001b[0m \u001b[1m 0.000\u001b[0m) D (\u001b[1m\u001b[34m 1.100\u001b[0m \u001b[1m 0.082\u001b[0m)   grad norms: G ( 5.602  0.000) D ( 2.488  0.615)   time \u001b[1m22h 46m 14s\u001b[0m sec/kimg  193.18 maxGPU  7.4GB \u001b[1mclevr-scratch\u001b[0m \n",
      "tick \u001b[1m50   \u001b[0m kimg \u001b[1m\u001b[31m   403.3\u001b[0m   loss/reg: G (\u001b[1m\u001b[34m 1.079\u001b[0m \u001b[1m 0.000\u001b[0m) D (\u001b[1m\u001b[34m 1.078\u001b[0m \u001b[1m 0.089\u001b[0m)   grad norms: G ( 6.001  0.000) D ( 2.541  0.615)   time \u001b[1m23h 12m 10s\u001b[0m sec/kimg  192.97 maxGPU  7.4GB \u001b[1mclevr-scratch\u001b[0m \n",
      "tick \u001b[1m51   \u001b[0m kimg \u001b[1m\u001b[31m   411.4\u001b[0m   loss/reg: G (\u001b[1m\u001b[34m 1.051\u001b[0m \u001b[1m 0.000\u001b[0m) D (\u001b[1m\u001b[34m 1.081\u001b[0m \u001b[1m 0.085\u001b[0m)   grad norms: G ( 6.271  0.000) D ( 2.499  0.605)   time \u001b[1m23h 36m 14s\u001b[0m sec/kimg  179.05 maxGPU  7.4GB \u001b[1mclevr-scratch\u001b[0m \n",
      "network-snapshot-000411        time 4m 51s      \u001b[1m\u001b[34m fid 42.5393   \u001b[0m\n",
      "tick \u001b[1m52   \u001b[0m kimg \u001b[1m\u001b[31m   419.5\u001b[0m   loss/reg: G (\u001b[1m\u001b[34m 1.034\u001b[0m \u001b[1m 0.000\u001b[0m) D (\u001b[1m\u001b[34m 1.072\u001b[0m \u001b[1m 0.078\u001b[0m)   grad norms: G ( 5.990  0.000) D ( 2.318  0.602)   time \u001b[1m1d 00h 05m\u001b[0m sec/kimg  181.21 maxGPU  7.4GB \u001b[1mclevr-scratch\u001b[0m \n",
      "tick \u001b[1m53   \u001b[0m kimg \u001b[1m\u001b[31m   427.5\u001b[0m   loss/reg: G (\u001b[1m\u001b[34m 0.984\u001b[0m \u001b[1m 0.000\u001b[0m) D (\u001b[1m\u001b[34m 1.154\u001b[0m \u001b[1m 0.068\u001b[0m)   grad norms: G ( 4.870  0.000) D ( 2.132  0.588)   time \u001b[1m1d 00h 29m\u001b[0m sec/kimg  180.21 maxGPU  7.4GB \u001b[1mclevr-scratch\u001b[0m \n",
      "tick \u001b[1m54   \u001b[0m kimg \u001b[1m\u001b[31m   435.6\u001b[0m   loss/reg: G (\u001b[1m\u001b[34m 1.033\u001b[0m \u001b[1m 0.000\u001b[0m) D (\u001b[1m\u001b[34m 1.111\u001b[0m \u001b[1m 0.077\u001b[0m)   grad norms: G ( 5.438  0.000) D ( 2.276  0.585)   time \u001b[1m1d 00h 54m\u001b[0m sec/kimg  180.25 maxGPU  7.4GB \u001b[1mclevr-scratch\u001b[0m \n",
      "network-snapshot-000435        time 4m 52s      \u001b[1m\u001b[34m fid 39.0020   \u001b[0m\n",
      "tick \u001b[1m55   \u001b[0m kimg \u001b[1m\u001b[31m   443.6\u001b[0m   loss/reg: G (\u001b[1m\u001b[34m 1.065\u001b[0m \u001b[1m 0.000\u001b[0m) D (\u001b[1m\u001b[34m 1.063\u001b[0m \u001b[1m 0.088\u001b[0m)   grad norms: G ( 6.154  0.000) D ( 2.481  0.603)   time \u001b[1m1d 01h 23m\u001b[0m sec/kimg  180.19 maxGPU  7.4GB \u001b[1mclevr-scratch\u001b[0m \n",
      "tick \u001b[1m56   \u001b[0m kimg \u001b[1m\u001b[31m   451.7\u001b[0m   loss/reg: G (\u001b[1m\u001b[34m 1.015\u001b[0m \u001b[1m 0.000\u001b[0m) D (\u001b[1m\u001b[34m 1.120\u001b[0m \u001b[1m 0.080\u001b[0m)   grad norms: G ( 6.330  0.000) D ( 2.501  0.604)   time \u001b[1m1d 01h 47m\u001b[0m sec/kimg  180.02 maxGPU  7.4GB \u001b[1mclevr-scratch\u001b[0m \n",
      "tick \u001b[1m57   \u001b[0m kimg \u001b[1m\u001b[31m   459.8\u001b[0m   loss/reg: G (\u001b[1m\u001b[34m 1.014\u001b[0m \u001b[1m 0.000\u001b[0m) D (\u001b[1m\u001b[34m 1.116\u001b[0m \u001b[1m 0.077\u001b[0m)   grad norms: G ( 6.020  0.000) D ( 2.316  0.598)   time \u001b[1m1d 02h 11m\u001b[0m sec/kimg  179.76 maxGPU  7.4GB \u001b[1mclevr-scratch\u001b[0m \n",
      "network-snapshot-000459        time 4m 52s      \u001b[1m\u001b[34m fid 39.2279   \u001b[0m\n",
      "tick \u001b[1m58   \u001b[0m kimg \u001b[1m\u001b[31m   467.8\u001b[0m   loss/reg: G (\u001b[1m\u001b[34m 0.978\u001b[0m \u001b[1m 0.000\u001b[0m) D (\u001b[1m\u001b[34m 1.140\u001b[0m \u001b[1m 0.074\u001b[0m)   grad norms: G ( 5.288  0.000) D ( 2.254  0.590)   time \u001b[1m1d 02h 40m\u001b[0m sec/kimg  180.17 maxGPU  7.4GB \u001b[1mclevr-scratch\u001b[0m \n",
      "tick \u001b[1m59   \u001b[0m kimg \u001b[1m\u001b[31m   475.9\u001b[0m   loss/reg: G (\u001b[1m\u001b[34m 1.011\u001b[0m \u001b[1m 0.000\u001b[0m) D (\u001b[1m\u001b[34m 1.128\u001b[0m \u001b[1m 0.077\u001b[0m)   grad norms: G ( 5.500  0.000) D ( 2.210  0.586)   time \u001b[1m1d 03h 05m\u001b[0m sec/kimg  179.90 maxGPU  7.4GB \u001b[1mclevr-scratch\u001b[0m \n",
      "tick \u001b[1m60   \u001b[0m kimg \u001b[1m\u001b[31m   484.0\u001b[0m   loss/reg: G (\u001b[1m\u001b[34m 1.008\u001b[0m \u001b[1m 0.000\u001b[0m) D (\u001b[1m\u001b[34m 1.107\u001b[0m \u001b[1m 0.076\u001b[0m)   grad norms: G ( 5.245  0.000) D ( 2.171  0.582)   time \u001b[1m1d 03h 29m\u001b[0m sec/kimg  180.32 maxGPU  7.4GB \u001b[1mclevr-scratch\u001b[0m \n",
      "network-snapshot-000483        time 4m 59s      \u001b[1m\u001b[34m fid 33.1276   \u001b[0m\n",
      "tick \u001b[1m61   \u001b[0m kimg \u001b[1m\u001b[31m   492.0\u001b[0m   loss/reg: G (\u001b[1m\u001b[34m 1.155\u001b[0m \u001b[1m 0.000\u001b[0m) D (\u001b[1m\u001b[34m 1.039\u001b[0m \u001b[1m 0.078\u001b[0m)   grad norms: G ( 5.733  0.000) D ( 2.207  0.578)   time \u001b[1m1d 03h 59m\u001b[0m sec/kimg  186.22 maxGPU  7.4GB \u001b[1mclevr-scratch\u001b[0m \n",
      "tick \u001b[1m62   \u001b[0m kimg \u001b[1m\u001b[31m   500.1\u001b[0m   loss/reg: G (\u001b[1m\u001b[34m 1.054\u001b[0m \u001b[1m 0.000\u001b[0m) D (\u001b[1m\u001b[34m 1.087\u001b[0m \u001b[1m 0.078\u001b[0m)   grad norms: G ( 5.912  0.000) D ( 2.260  0.578)   time \u001b[1m1d 04h 23m\u001b[0m sec/kimg  179.52 maxGPU  7.4GB \u001b[1mclevr-scratch\u001b[0m \n",
      "tick \u001b[1m63   \u001b[0m kimg \u001b[1m\u001b[31m   508.2\u001b[0m   loss/reg: G (\u001b[1m\u001b[34m 0.998\u001b[0m \u001b[1m 0.000\u001b[0m) D (\u001b[1m\u001b[34m 1.118\u001b[0m \u001b[1m 0.076\u001b[0m)   grad norms: G ( 5.711  0.000) D ( 2.253  0.571)   time \u001b[1m1d 04h 47m\u001b[0m sec/kimg  179.51 maxGPU  7.4GB \u001b[1mclevr-scratch\u001b[0m \n",
      "network-snapshot-000508        time 4m 51s      \u001b[1m\u001b[34m fid 36.0836   \u001b[0m\n",
      "tick \u001b[1m64   \u001b[0m kimg \u001b[1m\u001b[31m   516.2\u001b[0m   loss/reg: G (\u001b[1m\u001b[34m 0.987\u001b[0m \u001b[1m 0.000\u001b[0m) D (\u001b[1m\u001b[34m 1.101\u001b[0m \u001b[1m 0.077\u001b[0m)   grad norms: G ( 5.387  0.000) D ( 2.113  0.568)   time \u001b[1m1d 05h 16m\u001b[0m sec/kimg  179.92 maxGPU  7.4GB \u001b[1mclevr-scratch\u001b[0m \n",
      "tick \u001b[1m65   \u001b[0m kimg \u001b[1m\u001b[31m   524.3\u001b[0m   loss/reg: G (\u001b[1m\u001b[34m 0.996\u001b[0m \u001b[1m 0.000\u001b[0m) D (\u001b[1m\u001b[34m 1.116\u001b[0m \u001b[1m 0.084\u001b[0m)   grad norms: G ( 5.610  0.000) D ( 2.438  0.576)   time \u001b[1m1d 05h 41m\u001b[0m sec/kimg  179.65 maxGPU  7.4GB \u001b[1mclevr-scratch\u001b[0m \n",
      "tick \u001b[1m66   \u001b[0m kimg \u001b[1m\u001b[31m   532.4\u001b[0m   loss/reg: G (\u001b[1m\u001b[34m 1.019\u001b[0m \u001b[1m 0.000\u001b[0m) D (\u001b[1m\u001b[34m 1.082\u001b[0m \u001b[1m 0.083\u001b[0m)   grad norms: G ( 6.512  0.000) D ( 2.521  0.573)   time \u001b[1m1d 06h 05m\u001b[0m sec/kimg  180.11 maxGPU  7.4GB \u001b[1mclevr-scratch\u001b[0m \n",
      "network-snapshot-000532        time 4m 51s      \u001b[1m\u001b[34m fid 33.5409   \u001b[0m\n",
      "tick \u001b[1m67   \u001b[0m kimg \u001b[1m\u001b[31m   540.4\u001b[0m   loss/reg: G (\u001b[1m\u001b[34m 0.966\u001b[0m \u001b[1m 0.000\u001b[0m) D (\u001b[1m\u001b[34m 1.126\u001b[0m \u001b[1m 0.073\u001b[0m)   grad norms: G ( 5.596  0.000) D ( 2.252  0.571)   time \u001b[1m1d 06h 34m\u001b[0m sec/kimg  179.94 maxGPU  7.4GB \u001b[1mclevr-scratch\u001b[0m \n",
      "tick \u001b[1m68   \u001b[0m kimg \u001b[1m\u001b[31m   548.5\u001b[0m   loss/reg: G (\u001b[1m\u001b[34m 0.967\u001b[0m \u001b[1m 0.000\u001b[0m) D (\u001b[1m\u001b[34m 1.134\u001b[0m \u001b[1m 0.072\u001b[0m)   grad norms: G ( 5.402  0.000) D ( 2.126  0.565)   time \u001b[1m1d 06h 58m\u001b[0m sec/kimg  180.03 maxGPU  7.4GB \u001b[1mclevr-scratch\u001b[0m \n",
      "tick \u001b[1m69   \u001b[0m kimg \u001b[1m\u001b[31m   556.5\u001b[0m   loss/reg: G (\u001b[1m\u001b[34m 0.996\u001b[0m \u001b[1m 0.000\u001b[0m) D (\u001b[1m\u001b[34m 1.100\u001b[0m \u001b[1m 0.081\u001b[0m)   grad norms: G ( 5.333  0.000) D ( 2.124  0.576)   time \u001b[1m1d 07h 22m\u001b[0m sec/kimg  179.76 maxGPU  7.4GB \u001b[1mclevr-scratch\u001b[0m \n",
      "network-snapshot-000556        time 4m 53s      \u001b[1m\u001b[34m fid 30.2501   \u001b[0m\n",
      "tick \u001b[1m70   \u001b[0m kimg \u001b[1m\u001b[31m   564.6\u001b[0m   loss/reg: G (\u001b[1m\u001b[34m 0.941\u001b[0m \u001b[1m 0.000\u001b[0m) D (\u001b[1m\u001b[34m 1.115\u001b[0m \u001b[1m 0.074\u001b[0m)   grad norms: G ( 5.105  0.000) D ( 2.129  0.572)   time \u001b[1m1d 07h 52m\u001b[0m sec/kimg  180.31 maxGPU  7.4GB \u001b[1mclevr-scratch\u001b[0m \n",
      "tick \u001b[1m71   \u001b[0m kimg \u001b[1m\u001b[31m   572.7\u001b[0m   loss/reg: G (\u001b[1m\u001b[34m 1.023\u001b[0m \u001b[1m 0.000\u001b[0m) D (\u001b[1m\u001b[34m 1.074\u001b[0m \u001b[1m 0.083\u001b[0m)   grad norms: G ( 6.097  0.000) D ( 2.280  0.579)   time \u001b[1m1d 08h 15m\u001b[0m sec/kimg  177.89 maxGPU  7.4GB \u001b[1mclevr-scratch\u001b[0m \n",
      "tick \u001b[1m72   \u001b[0m kimg \u001b[1m\u001b[31m   580.7\u001b[0m   loss/reg: G (\u001b[1m\u001b[34m 0.972\u001b[0m \u001b[1m 0.000\u001b[0m) D (\u001b[1m\u001b[34m 1.138\u001b[0m \u001b[1m 0.073\u001b[0m)   grad norms: G ( 5.298  0.000) D ( 2.074  0.574)   time \u001b[1m1d 08h 39m\u001b[0m sec/kimg  177.93 maxGPU  7.4GB \u001b[1mclevr-scratch\u001b[0m \n",
      "network-snapshot-000580        time 4m 50s      \u001b[1m\u001b[34m fid 34.3893   \u001b[0m\n",
      "tick \u001b[1m73   \u001b[0m kimg \u001b[1m\u001b[31m   588.8\u001b[0m   loss/reg: G (\u001b[1m\u001b[34m 1.010\u001b[0m \u001b[1m 0.000\u001b[0m) D (\u001b[1m\u001b[34m 1.113\u001b[0m \u001b[1m 0.077\u001b[0m)   grad norms: G ( 6.020  0.000) D ( 2.228  0.579)   time \u001b[1m1d 09h 10m\u001b[0m sec/kimg  188.92 maxGPU  7.4GB \u001b[1mclevr-scratch\u001b[0m \n",
      "tick \u001b[1m74   \u001b[0m kimg \u001b[1m\u001b[31m   596.9\u001b[0m   loss/reg: G (\u001b[1m\u001b[34m 0.992\u001b[0m \u001b[1m 0.000\u001b[0m) D (\u001b[1m\u001b[34m 1.092\u001b[0m \u001b[1m 0.077\u001b[0m)   grad norms: G ( 5.289  0.000) D ( 2.082  0.580)   time \u001b[1m1d 09h 36m\u001b[0m sec/kimg  194.42 maxGPU  7.4GB \u001b[1mclevr-scratch\u001b[0m \n",
      "tick \u001b[1m75   \u001b[0m kimg \u001b[1m\u001b[31m   604.9\u001b[0m   loss/reg: G (\u001b[1m\u001b[34m 0.982\u001b[0m \u001b[1m 0.000\u001b[0m) D (\u001b[1m\u001b[34m 1.112\u001b[0m \u001b[1m 0.074\u001b[0m)   grad norms: G ( 5.379  0.000) D ( 2.230  0.572)   time \u001b[1m1d 10h 02m\u001b[0m sec/kimg  192.70 maxGPU  7.4GB \u001b[1mclevr-scratch\u001b[0m \n",
      "network-snapshot-000604        time 5m 13s      \u001b[1m\u001b[34m fid 28.9478   \u001b[0m\n",
      "^C\n"
     ]
    }
   ],
   "source": [
    "!python run_network.py \\\n",
    "--train \\\n",
    "--gpus 0 \\\n",
    "--ganformer-default \\\n",
    "--expname clevr-scratch \\\n",
    "--dataset covidx \\\n",
    "--eval-images-num 10000 \\\n",
    "--keep-samples True \\\n",
    "--metrics fid"
   ]
  },
  {
   "cell_type": "markdown",
   "metadata": {},
   "source": [
    "The model has finished training and is currently getting and FID score of 28.95. The weights for this section of the model have been uploaded to our Checkpoints folder on Google Drive. Training or image generation can be resumed by downloading the 604 network snapshot: \n",
    "\n",
    "https://drive.google.com/drive/folders/167zK1KXJmceGagUwymjBYiutWbs-7UUi?usp=sharing\n",
    "\n",
    "-------------------------------------\n",
    "# Create Dataset for Head CT Scans\n"
   ]
  },
  {
   "cell_type": "code",
   "execution_count": 5,
   "metadata": {},
   "outputs": [
    {
     "name": "stdout",
     "output_type": "stream",
     "text": [
      "170028\r\n"
     ]
    }
   ],
   "source": [
    "# Verify head ct volume mounted in container\n",
    "!ls head_data | wc -l"
   ]
  },
  {
   "cell_type": "code",
   "execution_count": 7,
   "metadata": {},
   "outputs": [
    {
     "name": "stdout",
     "output_type": "stream",
     "text": [
      "\u001b[1mPreparing the headct dataset...\u001b[0m\n",
      "Loading images from head_data\n",
      "100%|█████████████████████████████████| 170028/170028 [2:21:20<00:00, 20.05it/s]\n",
      "\u001b[1m\u001b[34mCompleted preparations for headct!\u001b[0m\n"
     ]
    }
   ],
   "source": [
    "!python prepare_data.py \\\n",
    "--task headct \\\n",
    "--images-dir 'head_data' \\\n",
    "--format png --ratio 0.7 \\\n",
    "--max-images 170028 "
   ]
  },
  {
   "cell_type": "code",
   "execution_count": 10,
   "metadata": {},
   "outputs": [],
   "source": [
    "weights = os.path.join('gansformer', 'results', 'clevr-scratch-000', 'network-snapshot-000604.pkl')"
   ]
  },
  {
   "cell_type": "code",
   "execution_count": 23,
   "metadata": {
    "scrolled": false
   },
   "outputs": [
    {
     "name": "stdout",
     "output_type": "stream",
     "text": [
      "\u001b[1m\u001b[37mResuming clevr-scratch-000, from results/clevr-scratch-000/network-snapshot-000604.pkl, kimg 604\u001b[0m\n",
      "Local submit - run_dir: results/clevr-scratch-000\n",
      "dnnlib: Running training.training_loop.training_loop() on localhost...\n",
      "\u001b[1m\u001b[37mStreaming data using training.dataset.TFRecordDataset datasets...\u001b[0m\n",
      "Dataset shape:  \u001b[1m\u001b[34m[3, 256, 256]\u001b[0m\n",
      "Dynamic range:  \u001b[1m\u001b[34m[0, 255]\u001b[0m\n",
      "\u001b[1m\u001b[37mLoading networks from results/clevr-scratch-000/network-snapshot-000604.pkl...\u001b[0m\n",
      "Setting up TensorFlow plugin 'fused_bias_act.cu': Loading... Done.\n",
      "Setting up TensorFlow plugin 'upfirdn_2d.cu': Loading... Done.\n",
      "\n",
      "\u001b[1m\u001b[34mG                                            Params    OutputShape         WeightShape     \u001b[0m\n",
      "---                                          ---       ---                 ---             \n",
      "\u001b[1mltnt_emb/emb\u001b[0m                                 512       (16, 32)            (16, 32)        \n",
      "\u001b[1mG_mapping/AttLayer_0\u001b[0m                         6336      (?, 32)             -               \n",
      "\u001b[1mG_mapping/Dense0_0\u001b[0m                           1056      (?, 32)             (32, 32)        \n",
      "\u001b[1mG_mapping/Dense0_1\u001b[0m                           1056      (?, 32)             (32, 32)        \n",
      "\u001b[1mG_mapping/AttLayer_1\u001b[0m                         6336      (?, 32)             -               \n",
      "\u001b[1mG_mapping/Dense1_0\u001b[0m                           1056      (?, 32)             (32, 32)        \n",
      "\u001b[1mG_mapping/Dense1_1\u001b[0m                           1056      (?, 32)             (32, 32)        \n",
      "\u001b[1mG_mapping/AttLayer_2\u001b[0m                         6336      (?, 32)             -               \n",
      "\u001b[1mG_mapping/Dense2_0\u001b[0m                           1056      (?, 32)             (32, 32)        \n",
      "\u001b[1mG_mapping/Dense2_1\u001b[0m                           1056      (?, 32)             (32, 32)        \n",
      "\u001b[1mG_mapping/AttLayer_3\u001b[0m                         6336      (?, 32)             -               \n",
      "\u001b[1mG_mapping/Dense3_0\u001b[0m                           1056      (?, 32)             (32, 32)        \n",
      "\u001b[1mG_mapping/Dense3_1\u001b[0m                           1056      (?, 32)             (32, 32)        \n",
      "\u001b[1mG_mapping/Dense3\u001b[0m                             1056      (?, 32)             (32, 32)        \n",
      "\u001b[1mG_mapping/global\u001b[0m                             9504      (?, 32)             (32, 32)        \n",
      "\u001b[1mG_synthesis/4x4/Const\u001b[0m                        8192      (?, 512, 4, 4)      (1, 512, 4, 4)  \n",
      "\u001b[1mG_synthesis/4x4/Conv/AttLayer_l2n\u001b[0m            610304    (?, 512)            -               \n",
      "\u001b[1mG_synthesis/4x4/Conv/weight\u001b[0m                  2359296   (3, 3, 512, 512)    (3, 3, 512, 512)\n",
      "\u001b[1mG_synthesis/4x4/Conv/mod_weight\u001b[0m              16384     (32, 512)           (32, 512)       \n",
      "\u001b[1mG_synthesis/4x4/Conv/mod_bias\u001b[0m                512       (512,)              (512,)          \n",
      "\u001b[1mG_synthesis/4x4/Conv/noise_strength\u001b[0m          1         ()                  ()              \n",
      "\u001b[1mG_synthesis/4x4/Conv/bias\u001b[0m                    512       (512,)              (512,)          \n",
      "\u001b[1mG_synthesis/8x8/Conv0_up/AttLayer_l2n\u001b[0m        610304    (?, 512)            -               \n",
      "\u001b[1mG_synthesis/8x8/Conv0_up/weight\u001b[0m              2359296   (3, 3, 512, 512)    (3, 3, 512, 512)\n",
      "\u001b[1mG_synthesis/8x8/Conv0_up/mod_weight\u001b[0m          16384     (32, 512)           (32, 512)       \n",
      "\u001b[1mG_synthesis/8x8/Conv0_up/mod_bias\u001b[0m            512       (512,)              (512,)          \n",
      "\u001b[1mG_synthesis/8x8/Conv0_up/noise_strength\u001b[0m      1         ()                  ()              \n",
      "\u001b[1mG_synthesis/8x8/Conv0_up/bias\u001b[0m                512       (512,)              (512,)          \n",
      "\u001b[1mG_synthesis/8x8/Conv1/AttLayer_l2n\u001b[0m           610304    (?, 512)            -               \n",
      "\u001b[1mG_synthesis/8x8/Conv1/weight\u001b[0m                 2359296   (3, 3, 512, 512)    (3, 3, 512, 512)\n",
      "\u001b[1mG_synthesis/8x8/Conv1/mod_weight\u001b[0m             16384     (32, 512)           (32, 512)       \n",
      "\u001b[1mG_synthesis/8x8/Conv1/mod_bias\u001b[0m               512       (512,)              (512,)          \n",
      "\u001b[1mG_synthesis/8x8/Conv1/noise_strength\u001b[0m         1         ()                  ()              \n",
      "\u001b[1mG_synthesis/8x8/Conv1/bias\u001b[0m                   512       (512,)              (512,)          \n",
      "\u001b[1mG_synthesis/8x8/Skip\u001b[0m                         262144    (?, 512, 8, 8)      (1, 1, 512, 512)\n",
      "\u001b[1mG_synthesis/16x16/Conv0_up/AttLayer_l2n\u001b[0m      610304    (?, 512)            -               \n",
      "\u001b[1mG_synthesis/16x16/Conv0_up/weight\u001b[0m            2359296   (3, 3, 512, 512)    (3, 3, 512, 512)\n",
      "\u001b[1mG_synthesis/16x16/Conv0_up/mod_weight\u001b[0m        16384     (32, 512)           (32, 512)       \n",
      "\u001b[1mG_synthesis/16x16/Conv0_up/mod_bias\u001b[0m          512       (512,)              (512,)          \n",
      "\u001b[1mG_synthesis/16x16/Conv0_up/noise_strength\u001b[0m    1         ()                  ()              \n",
      "\u001b[1mG_synthesis/16x16/Conv0_up/bias\u001b[0m              512       (512,)              (512,)          \n",
      "\u001b[1mG_synthesis/16x16/Conv1/AttLayer_l2n\u001b[0m         610304    (?, 512)            -               \n",
      "\u001b[1mG_synthesis/16x16/Conv1/weight\u001b[0m               2359296   (3, 3, 512, 512)    (3, 3, 512, 512)\n",
      "\u001b[1mG_synthesis/16x16/Conv1/mod_weight\u001b[0m           16384     (32, 512)           (32, 512)       \n",
      "\u001b[1mG_synthesis/16x16/Conv1/mod_bias\u001b[0m             512       (512,)              (512,)          \n",
      "\u001b[1mG_synthesis/16x16/Conv1/noise_strength\u001b[0m       1         ()                  ()              \n",
      "\u001b[1mG_synthesis/16x16/Conv1/bias\u001b[0m                 512       (512,)              (512,)          \n",
      "\u001b[1mG_synthesis/16x16/Skip\u001b[0m                       262144    (?, 512, 16, 16)    (1, 1, 512, 512)\n",
      "\u001b[1mG_synthesis/32x32/Conv0_up/AttLayer_l2n\u001b[0m      610304    (?, 512)            -               \n",
      "\u001b[1mG_synthesis/32x32/Conv0_up/weight\u001b[0m            2359296   (3, 3, 512, 512)    (3, 3, 512, 512)\n",
      "\u001b[1mG_synthesis/32x32/Conv0_up/mod_weight\u001b[0m        16384     (32, 512)           (32, 512)       \n",
      "\u001b[1mG_synthesis/32x32/Conv0_up/mod_bias\u001b[0m          512       (512,)              (512,)          \n",
      "\u001b[1mG_synthesis/32x32/Conv0_up/noise_strength\u001b[0m    1         ()                  ()              \n",
      "\u001b[1mG_synthesis/32x32/Conv0_up/bias\u001b[0m              512       (512,)              (512,)          \n",
      "\u001b[1mG_synthesis/32x32/Conv1/AttLayer_l2n\u001b[0m         610304    (?, 512)            -               \n",
      "\u001b[1mG_synthesis/32x32/Conv1/weight\u001b[0m               2359296   (3, 3, 512, 512)    (3, 3, 512, 512)\n",
      "\u001b[1mG_synthesis/32x32/Conv1/mod_weight\u001b[0m           16384     (32, 512)           (32, 512)       \n",
      "\u001b[1mG_synthesis/32x32/Conv1/mod_bias\u001b[0m             512       (512,)              (512,)          \n",
      "\u001b[1mG_synthesis/32x32/Conv1/noise_strength\u001b[0m       1         ()                  ()              \n",
      "\u001b[1mG_synthesis/32x32/Conv1/bias\u001b[0m                 512       (512,)              (512,)          \n",
      "\u001b[1mG_synthesis/32x32/Skip\u001b[0m                       262144    (?, 512, 32, 32)    (1, 1, 512, 512)\n",
      "\u001b[1mG_synthesis/64x64/Conv0_up/AttLayer_l2n\u001b[0m      610304    (?, 512)            -               \n",
      "\u001b[1mG_synthesis/64x64/Conv0_up/weight\u001b[0m            2359296   (3, 3, 512, 512)    (3, 3, 512, 512)\n",
      "\u001b[1mG_synthesis/64x64/Conv0_up/mod_weight\u001b[0m        16384     (32, 512)           (32, 512)       \n",
      "\u001b[1mG_synthesis/64x64/Conv0_up/mod_bias\u001b[0m          512       (512,)              (512,)          \n",
      "\u001b[1mG_synthesis/64x64/Conv0_up/noise_strength\u001b[0m    1         ()                  ()              \n",
      "\u001b[1mG_synthesis/64x64/Conv0_up/bias\u001b[0m              512       (512,)              (512,)          \n",
      "\u001b[1mG_synthesis/64x64/Conv1/AttLayer_l2n\u001b[0m         610304    (?, 512)            -               \n",
      "\u001b[1mG_synthesis/64x64/Conv1/weight\u001b[0m               2359296   (3, 3, 512, 512)    (3, 3, 512, 512)\n",
      "\u001b[1mG_synthesis/64x64/Conv1/mod_weight\u001b[0m           16384     (32, 512)           (32, 512)       \n",
      "\u001b[1mG_synthesis/64x64/Conv1/mod_bias\u001b[0m             512       (512,)              (512,)          \n",
      "\u001b[1mG_synthesis/64x64/Conv1/noise_strength\u001b[0m       1         ()                  ()              \n",
      "\u001b[1mG_synthesis/64x64/Conv1/bias\u001b[0m                 512       (512,)              (512,)          \n",
      "\u001b[1mG_synthesis/64x64/Skip\u001b[0m                       262144    (?, 512, 64, 64)    (1, 1, 512, 512)\n",
      "\u001b[1mG_synthesis/128x128/Conv0_up/AttLayer_l2n\u001b[0m    174080    (?, 256)            -               \n",
      "\u001b[1mG_synthesis/128x128/Conv0_up/weight\u001b[0m          1179648   (3, 3, 512, 256)    (3, 3, 512, 256)\n",
      "\u001b[1mG_synthesis/128x128/Conv0_up/mod_weight\u001b[0m      16384     (32, 512)           (32, 512)       \n",
      "\u001b[1mG_synthesis/128x128/Conv0_up/mod_bias\u001b[0m        512       (512,)              (512,)          \n",
      "\u001b[1mG_synthesis/128x128/Conv0_up/noise_strength\u001b[0m  1         ()                  ()              \n",
      "\u001b[1mG_synthesis/128x128/Conv0_up/bias\u001b[0m            256       (256,)              (256,)          \n",
      "\u001b[1mG_synthesis/128x128/Conv1/AttLayer_l2n\u001b[0m       174080    (?, 256)            -               \n",
      "\u001b[1mG_synthesis/128x128/Conv1/weight\u001b[0m             589824    (3, 3, 256, 256)    (3, 3, 256, 256)\n",
      "\u001b[1mG_synthesis/128x128/Conv1/mod_weight\u001b[0m         8192      (32, 256)           (32, 256)       \n",
      "\u001b[1mG_synthesis/128x128/Conv1/mod_bias\u001b[0m           256       (256,)              (256,)          \n",
      "\u001b[1mG_synthesis/128x128/Conv1/noise_strength\u001b[0m     1         ()                  ()              \n",
      "\u001b[1mG_synthesis/128x128/Conv1/bias\u001b[0m               256       (256,)              (256,)          \n",
      "\u001b[1mG_synthesis/128x128/Skip\u001b[0m                     131072    (?, 256, 128, 128)  (1, 1, 512, 256)\n",
      "\u001b[1mG_synthesis/256x256\u001b[0m                          644357    (?, 3, 256, 256)    (1, 1, 256, 128)\n",
      "---                                          ---       ---                 ---             \n",
      "\u001b[1m\u001b[31mTotal                                        30903632                                      \u001b[0m\n",
      "\n"
     ]
    },
    {
     "name": "stdout",
     "output_type": "stream",
     "text": [
      "\n",
      "\u001b[1m\u001b[34mD                   Params    OutputShape         WeightShape     \u001b[0m\n",
      "---                 ---       ---                 ---             \n",
      "\u001b[1mltnt_emb/emb\u001b[0m        512       (16, 32)            (16, 32)        \n",
      "\u001b[1m256x256/FromRGB\u001b[0m     512       (?, 128, 256, 256)  (1, 1, 3, 128)  \n",
      "\u001b[1m256x256/Conv0\u001b[0m       147584    (?, 128, 256, 256)  (3, 3, 128, 128)\n",
      "\u001b[1m256x256/Conv1_down\u001b[0m  295168    (?, 256, 128, 128)  (3, 3, 128, 256)\n",
      "\u001b[1m256x256/Skip\u001b[0m        32768     (?, 256, 128, 128)  (1, 1, 128, 256)\n",
      "\u001b[1m128x128/Conv0\u001b[0m       590080    (?, 256, 128, 128)  (3, 3, 256, 256)\n",
      "\u001b[1m128x128/Conv1_down\u001b[0m  1180160   (?, 512, 64, 64)    (3, 3, 256, 512)\n",
      "\u001b[1m128x128/Skip\u001b[0m        131072    (?, 512, 64, 64)    (1, 1, 256, 512)\n",
      "\u001b[1m64x64/Conv0\u001b[0m         2359808   (?, 512, 64, 64)    (3, 3, 512, 512)\n",
      "\u001b[1m64x64/Conv1_down\u001b[0m    2359808   (?, 512, 32, 32)    (3, 3, 512, 512)\n",
      "\u001b[1m64x64/Skip\u001b[0m          262144    (?, 512, 32, 32)    (1, 1, 512, 512)\n",
      "\u001b[1m32x32/Conv0\u001b[0m         2359808   (?, 512, 32, 32)    (3, 3, 512, 512)\n",
      "\u001b[1m32x32/Conv1_down\u001b[0m    2359808   (?, 512, 16, 16)    (3, 3, 512, 512)\n",
      "\u001b[1m32x32/Skip\u001b[0m          262144    (?, 512, 16, 16)    (1, 1, 512, 512)\n",
      "\u001b[1m16x16/Conv0\u001b[0m         2359808   (?, 512, 16, 16)    (3, 3, 512, 512)\n",
      "\u001b[1m16x16/Conv1_down\u001b[0m    2359808   (?, 512, 8, 8)      (3, 3, 512, 512)\n",
      "\u001b[1m16x16/Skip\u001b[0m          262144    (?, 512, 8, 8)      (1, 1, 512, 512)\n",
      "\u001b[1m8x8/Conv0\u001b[0m           2359808   (?, 512, 8, 8)      (3, 3, 512, 512)\n",
      "\u001b[1m8x8/Conv1_down\u001b[0m      2359808   (?, 512, 4, 4)      (3, 3, 512, 512)\n",
      "\u001b[1m8x8/Skip\u001b[0m            262144    (?, 512, 4, 4)      (1, 1, 512, 512)\n",
      "\u001b[1m4x4/Conv\u001b[0m            2364416   (?, 512, 4, 4)      (3, 3, 513, 512)\n",
      "\u001b[1m4x4/Dense0\u001b[0m          4194816   (?, 512)            (8192, 512)     \n",
      "\u001b[1mOutput/weight\u001b[0m       512       (512, 1)            (512, 1)        \n",
      "\u001b[1mOutput/bias\u001b[0m         1         (1,)                (1,)            \n",
      "---                 ---       ---                 ---             \n",
      "\u001b[1m\u001b[31mTotal               28864641                                      \u001b[0m\n",
      "\n",
      "\u001b[1m\u001b[37mBuilding TensorFlow graph...\u001b[0m\n",
      "\u001b[1m\u001b[37mInitializing logs...\u001b[0m\n",
      "\u001b[1m\u001b[37mTraining for 25000 kimg...\u001b[0m\n",
      "tick \u001b[1m0    \u001b[0m kimg \u001b[1m\u001b[31m   604.1\u001b[0m   loss/reg: G (\u001b[1m\u001b[34m 2.625\u001b[0m \u001b[1m 0.000\u001b[0m) D (\u001b[1m\u001b[34m 0.222\u001b[0m \u001b[1m 0.024\u001b[0m)   grad norms: G ( 3.928  0.000) D ( 0.672  0.323)   time \u001b[1m47s       \u001b[0m sec/kimg  365.86 maxGPU  7.5GB \u001b[1mclevr-scratch\u001b[0m \n",
      "network-snapshot-000604        time 5m 42s      \u001b[1m\u001b[34m fid 205.9184  \u001b[0m\n",
      "tick \u001b[1m1    \u001b[0m kimg \u001b[1m\u001b[31m   612.2\u001b[0m   loss/reg: G (\u001b[1m\u001b[34m 1.921\u001b[0m \u001b[1m 0.000\u001b[0m) D (\u001b[1m\u001b[34m 0.700\u001b[0m \u001b[1m 0.074\u001b[0m)   grad norms: G ( 6.470  0.000) D ( 2.220  0.339)   time \u001b[1m31m 10s   \u001b[0m sec/kimg  179.68 maxGPU  7.5GB \u001b[1mclevr-scratch\u001b[0m \n",
      "tick \u001b[1m2    \u001b[0m kimg \u001b[1m\u001b[31m   620.3\u001b[0m   loss/reg: G (\u001b[1m\u001b[34m 1.478\u001b[0m \u001b[1m 0.000\u001b[0m) D (\u001b[1m\u001b[34m 0.900\u001b[0m \u001b[1m 0.091\u001b[0m)   grad norms: G ( 7.879  0.000) D ( 2.604  0.395)   time \u001b[1m55m 21s   \u001b[0m sec/kimg  179.94 maxGPU  7.5GB \u001b[1mclevr-scratch\u001b[0m \n",
      "tick \u001b[1m3    \u001b[0m kimg \u001b[1m\u001b[31m   628.3\u001b[0m   loss/reg: G (\u001b[1m\u001b[34m 1.253\u001b[0m \u001b[1m 0.000\u001b[0m) D (\u001b[1m\u001b[34m 1.011\u001b[0m \u001b[1m 0.079\u001b[0m)   grad norms: G ( 7.272  0.000) D ( 2.577  0.428)   time \u001b[1m1h 19m 35s\u001b[0m sec/kimg  180.33 maxGPU  7.5GB \u001b[1mclevr-scratch\u001b[0m \n",
      "network-snapshot-000628        time 4m 52s      \u001b[1m\u001b[34m fid 88.3115   \u001b[0m\n",
      "tick \u001b[1m4    \u001b[0m kimg \u001b[1m\u001b[31m   636.4\u001b[0m   loss/reg: G (\u001b[1m\u001b[34m 1.241\u001b[0m \u001b[1m 0.000\u001b[0m) D (\u001b[1m\u001b[34m 1.032\u001b[0m \u001b[1m 0.083\u001b[0m)   grad norms: G ( 6.995  0.000) D ( 2.437  0.440)   time \u001b[1m1h 48m 50s\u001b[0m sec/kimg  180.31 maxGPU  7.5GB \u001b[1mclevr-scratch\u001b[0m \n",
      "tick \u001b[1m5    \u001b[0m kimg \u001b[1m\u001b[31m   644.4\u001b[0m   loss/reg: G (\u001b[1m\u001b[34m 1.221\u001b[0m \u001b[1m 0.000\u001b[0m) D (\u001b[1m\u001b[34m 1.066\u001b[0m \u001b[1m 0.082\u001b[0m)   grad norms: G ( 6.602  0.000) D ( 2.419  0.452)   time \u001b[1m2h 13m 02s\u001b[0m sec/kimg  180.02 maxGPU  7.5GB \u001b[1mclevr-scratch\u001b[0m \n",
      "tick \u001b[1m6    \u001b[0m kimg \u001b[1m\u001b[31m   652.5\u001b[0m   loss/reg: G (\u001b[1m\u001b[34m 1.201\u001b[0m \u001b[1m 0.000\u001b[0m) D (\u001b[1m\u001b[34m 1.043\u001b[0m \u001b[1m 0.088\u001b[0m)   grad norms: G ( 6.678  0.000) D ( 2.500  0.460)   time \u001b[1m2h 37m 17s\u001b[0m sec/kimg  180.51 maxGPU  7.5GB \u001b[1mclevr-scratch\u001b[0m \n",
      "network-snapshot-000652        time 4m 52s      \u001b[1m\u001b[34m fid 72.3265   \u001b[0m\n",
      "tick \u001b[1m7    \u001b[0m kimg \u001b[1m\u001b[31m   660.6\u001b[0m   loss/reg: G (\u001b[1m\u001b[34m 1.224\u001b[0m \u001b[1m 0.000\u001b[0m) D (\u001b[1m\u001b[34m 1.025\u001b[0m \u001b[1m 0.105\u001b[0m)   grad norms: G ( 7.229  0.000) D ( 2.614  0.471)   time \u001b[1m3h 06m 33s\u001b[0m sec/kimg  180.41 maxGPU  7.5GB \u001b[1mclevr-scratch\u001b[0m \n",
      "tick \u001b[1m8    \u001b[0m kimg \u001b[1m\u001b[31m   668.6\u001b[0m   loss/reg: G (\u001b[1m\u001b[34m 1.178\u001b[0m \u001b[1m 0.000\u001b[0m) D (\u001b[1m\u001b[34m 1.049\u001b[0m \u001b[1m 0.085\u001b[0m)   grad norms: G ( 6.019  0.000) D ( 2.289  0.489)   time \u001b[1m3h 31m 11s\u001b[0m sec/kimg  183.31 maxGPU  7.5GB \u001b[1mclevr-scratch\u001b[0m \n",
      "tick \u001b[1m9    \u001b[0m kimg \u001b[1m\u001b[31m   676.7\u001b[0m   loss/reg: G (\u001b[1m\u001b[34m 1.260\u001b[0m \u001b[1m 0.000\u001b[0m) D (\u001b[1m\u001b[34m 0.972\u001b[0m \u001b[1m 0.099\u001b[0m)   grad norms: G ( 7.957  0.000) D ( 2.522  0.518)   time \u001b[1m3h 55m 24s\u001b[0m sec/kimg  180.12 maxGPU  7.5GB \u001b[1mclevr-scratch\u001b[0m \n",
      "network-snapshot-000676        time 4m 52s      \u001b[1m\u001b[34m fid 65.9108   \u001b[0m\n",
      "tick \u001b[1m10   \u001b[0m kimg \u001b[1m\u001b[31m   684.8\u001b[0m   loss/reg: G (\u001b[1m\u001b[34m 1.261\u001b[0m \u001b[1m 0.000\u001b[0m) D (\u001b[1m\u001b[34m 0.957\u001b[0m \u001b[1m 0.106\u001b[0m)   grad norms: G ( 7.187  0.000) D ( 2.335  0.530)   time \u001b[1m4h 24m 41s\u001b[0m sec/kimg  180.25 maxGPU  7.5GB \u001b[1mclevr-scratch\u001b[0m \n",
      "tick \u001b[1m11   \u001b[0m kimg \u001b[1m\u001b[31m   692.8\u001b[0m   loss/reg: G (\u001b[1m\u001b[34m 1.350\u001b[0m \u001b[1m 0.000\u001b[0m) D (\u001b[1m\u001b[34m 0.890\u001b[0m \u001b[1m 0.107\u001b[0m)   grad norms: G ( 7.702  0.000) D ( 2.343  0.551)   time \u001b[1m4h 48m 49s\u001b[0m sec/kimg  179.67 maxGPU  7.5GB \u001b[1mclevr-scratch\u001b[0m \n",
      "tick \u001b[1m12   \u001b[0m kimg \u001b[1m\u001b[31m   700.9\u001b[0m   loss/reg: G (\u001b[1m\u001b[34m 1.292\u001b[0m \u001b[1m 0.000\u001b[0m) D (\u001b[1m\u001b[34m 0.939\u001b[0m \u001b[1m 0.105\u001b[0m)   grad norms: G ( 7.032  0.000) D ( 2.336  0.568)   time \u001b[1m5h 12m 59s\u001b[0m sec/kimg  179.78 maxGPU  7.5GB \u001b[1mclevr-scratch\u001b[0m \n",
      "network-snapshot-000700        time 4m 52s      \u001b[1m\u001b[34m fid 61.9100   \u001b[0m\n",
      "tick \u001b[1m13   \u001b[0m kimg \u001b[1m\u001b[31m   709.0\u001b[0m   loss/reg: G (\u001b[1m\u001b[34m 1.322\u001b[0m \u001b[1m 0.000\u001b[0m) D (\u001b[1m\u001b[34m 0.906\u001b[0m \u001b[1m 0.106\u001b[0m)   grad norms: G ( 6.828  0.000) D ( 2.257  0.587)   time \u001b[1m5h 42m 07s\u001b[0m sec/kimg  179.46 maxGPU  7.5GB \u001b[1mclevr-scratch\u001b[0m \n",
      "tick \u001b[1m14   \u001b[0m kimg \u001b[1m\u001b[31m   717.0\u001b[0m   loss/reg: G (\u001b[1m\u001b[34m 1.296\u001b[0m \u001b[1m 0.000\u001b[0m) D (\u001b[1m\u001b[34m 0.938\u001b[0m \u001b[1m 0.109\u001b[0m)   grad norms: G ( 7.133  0.000) D ( 2.315  0.608)   time \u001b[1m6h 06m 25s\u001b[0m sec/kimg  180.82 maxGPU  7.5GB \u001b[1mclevr-scratch\u001b[0m \n",
      "tick \u001b[1m15   \u001b[0m kimg \u001b[1m\u001b[31m   725.1\u001b[0m   loss/reg: G (\u001b[1m\u001b[34m 1.283\u001b[0m \u001b[1m 0.000\u001b[0m) D (\u001b[1m\u001b[34m 0.944\u001b[0m \u001b[1m 0.105\u001b[0m)   grad norms: G ( 6.734  0.000) D ( 2.158  0.626)   time \u001b[1m6h 30m 31s\u001b[0m sec/kimg  179.31 maxGPU  7.5GB \u001b[1mclevr-scratch\u001b[0m \n",
      "network-snapshot-000725        time 4m 53s      \u001b[1m\u001b[34m fid 52.9306   \u001b[0m\n",
      "tick \u001b[1m16   \u001b[0m kimg \u001b[1m\u001b[31m   733.2\u001b[0m   loss/reg: G (\u001b[1m\u001b[34m 1.338\u001b[0m \u001b[1m 0.000\u001b[0m) D (\u001b[1m\u001b[34m 0.910\u001b[0m \u001b[1m 0.111\u001b[0m)   grad norms: G ( 7.566  0.000) D ( 2.291  0.645)   time \u001b[1m6h 59m 45s\u001b[0m sec/kimg  180.03 maxGPU  7.5GB \u001b[1mclevr-scratch\u001b[0m \n",
      "tick \u001b[1m17   \u001b[0m kimg \u001b[1m\u001b[31m   741.2\u001b[0m   loss/reg: G (\u001b[1m\u001b[34m 1.289\u001b[0m \u001b[1m 0.000\u001b[0m) D (\u001b[1m\u001b[34m 0.899\u001b[0m \u001b[1m 0.105\u001b[0m)   grad norms: G ( 7.190  0.000) D ( 2.236  0.660)   time \u001b[1m7h 23m 53s\u001b[0m sec/kimg  179.55 maxGPU  7.5GB \u001b[1mclevr-scratch\u001b[0m \n",
      "tick \u001b[1m18   \u001b[0m kimg \u001b[1m\u001b[31m   749.3\u001b[0m   loss/reg: G (\u001b[1m\u001b[34m 1.275\u001b[0m \u001b[1m 0.000\u001b[0m) D (\u001b[1m\u001b[34m 0.933\u001b[0m \u001b[1m 0.096\u001b[0m)   grad norms: G ( 6.539  0.000) D ( 2.114  0.669)   time \u001b[1m7h 48m 06s\u001b[0m sec/kimg  180.25 maxGPU  7.5GB \u001b[1mclevr-scratch\u001b[0m \n",
      "network-snapshot-000749        time 4m 51s      \u001b[1m\u001b[34m fid 51.2026   \u001b[0m\n",
      "tick \u001b[1m19   \u001b[0m kimg \u001b[1m\u001b[31m   757.3\u001b[0m   loss/reg: G (\u001b[1m\u001b[34m 1.339\u001b[0m \u001b[1m 0.000\u001b[0m) D (\u001b[1m\u001b[34m 0.902\u001b[0m \u001b[1m 0.105\u001b[0m)   grad norms: G ( 7.189  0.000) D ( 2.165  0.683)   time \u001b[1m8h 17m 17s\u001b[0m sec/kimg  179.90 maxGPU  7.5GB \u001b[1mclevr-scratch\u001b[0m \n",
      "tick \u001b[1m20   \u001b[0m kimg \u001b[1m\u001b[31m   765.4\u001b[0m   loss/reg: G (\u001b[1m\u001b[34m 1.340\u001b[0m \u001b[1m 0.000\u001b[0m) D (\u001b[1m\u001b[34m 0.879\u001b[0m \u001b[1m 0.113\u001b[0m)   grad norms: G ( 7.454  0.000) D ( 2.161  0.716)   time \u001b[1m8h 41m 23s\u001b[0m sec/kimg  179.38 maxGPU  7.5GB \u001b[1mclevr-scratch\u001b[0m \n"
     ]
    },
    {
     "name": "stdout",
     "output_type": "stream",
     "text": [
      "tick \u001b[1m21   \u001b[0m kimg \u001b[1m\u001b[31m   773.5\u001b[0m   loss/reg: G (\u001b[1m\u001b[34m 1.353\u001b[0m \u001b[1m 0.000\u001b[0m) D (\u001b[1m\u001b[34m 0.895\u001b[0m \u001b[1m 0.125\u001b[0m)   grad norms: G ( 7.998  0.000) D ( 2.252  0.726)   time \u001b[1m9h 05m 28s\u001b[0m sec/kimg  179.17 maxGPU  7.5GB \u001b[1mclevr-scratch\u001b[0m \n",
      "network-snapshot-000773        time 4m 53s      \u001b[1m\u001b[34m fid 49.1943   \u001b[0m\n",
      "tick \u001b[1m22   \u001b[0m kimg \u001b[1m\u001b[31m   781.5\u001b[0m   loss/reg: G (\u001b[1m\u001b[34m 1.331\u001b[0m \u001b[1m 0.000\u001b[0m) D (\u001b[1m\u001b[34m 0.903\u001b[0m \u001b[1m 0.113\u001b[0m)   grad norms: G ( 7.178  0.000) D ( 2.184  0.754)   time \u001b[1m9h 34m 36s\u001b[0m sec/kimg  179.29 maxGPU  7.5GB \u001b[1mclevr-scratch\u001b[0m \n",
      "tick \u001b[1m23   \u001b[0m kimg \u001b[1m\u001b[31m   789.6\u001b[0m   loss/reg: G (\u001b[1m\u001b[34m 1.307\u001b[0m \u001b[1m 0.000\u001b[0m) D (\u001b[1m\u001b[34m 0.876\u001b[0m \u001b[1m 0.110\u001b[0m)   grad norms: G ( 6.836  0.000) D ( 2.094  0.742)   time \u001b[1m9h 58m 42s\u001b[0m sec/kimg  179.29 maxGPU  7.5GB \u001b[1mclevr-scratch\u001b[0m \n",
      "tick \u001b[1m24   \u001b[0m kimg \u001b[1m\u001b[31m   797.7\u001b[0m   loss/reg: G (\u001b[1m\u001b[34m 1.367\u001b[0m \u001b[1m 0.000\u001b[0m) D (\u001b[1m\u001b[34m 0.843\u001b[0m \u001b[1m 0.131\u001b[0m)   grad norms: G ( 8.036  0.000) D ( 2.234  0.757)   time \u001b[1m10h 22m 57s\u001b[0m sec/kimg  180.43 maxGPU  7.5GB \u001b[1mclevr-scratch\u001b[0m \n",
      "network-snapshot-000797        time 4m 52s      \u001b[1m\u001b[34m fid 44.7494   \u001b[0m\n",
      "tick \u001b[1m25   \u001b[0m kimg \u001b[1m\u001b[31m   805.7\u001b[0m   loss/reg: G (\u001b[1m\u001b[34m 1.325\u001b[0m \u001b[1m 0.000\u001b[0m) D (\u001b[1m\u001b[34m 0.882\u001b[0m \u001b[1m 0.120\u001b[0m)   grad norms: G ( 7.040  0.000) D ( 2.001  0.774)   time \u001b[1m10h 52m 06s\u001b[0m sec/kimg  179.66 maxGPU  7.5GB \u001b[1mclevr-scratch\u001b[0m \n",
      "tick \u001b[1m26   \u001b[0m kimg \u001b[1m\u001b[31m   813.8\u001b[0m   loss/reg: G (\u001b[1m\u001b[34m 1.343\u001b[0m \u001b[1m 0.000\u001b[0m) D (\u001b[1m\u001b[34m 0.879\u001b[0m \u001b[1m 0.121\u001b[0m)   grad norms: G ( 6.523  0.000) D ( 1.963  0.787)   time \u001b[1m11h 16m 16s\u001b[0m sec/kimg  179.88 maxGPU  7.5GB \u001b[1mclevr-scratch\u001b[0m \n",
      "tick \u001b[1m27   \u001b[0m kimg \u001b[1m\u001b[31m   821.9\u001b[0m   loss/reg: G (\u001b[1m\u001b[34m 1.316\u001b[0m \u001b[1m 0.000\u001b[0m) D (\u001b[1m\u001b[34m 0.910\u001b[0m \u001b[1m 0.113\u001b[0m)   grad norms: G ( 6.717  0.000) D ( 1.975  0.802)   time \u001b[1m11h 40m 27s\u001b[0m sec/kimg  179.86 maxGPU  7.5GB \u001b[1mclevr-scratch\u001b[0m \n",
      "network-snapshot-000821        time 4m 51s      \u001b[1m\u001b[34m fid 45.9486   \u001b[0m\n",
      "tick \u001b[1m28   \u001b[0m kimg \u001b[1m\u001b[31m   829.9\u001b[0m   loss/reg: G (\u001b[1m\u001b[34m 1.307\u001b[0m \u001b[1m 0.000\u001b[0m) D (\u001b[1m\u001b[34m 0.899\u001b[0m \u001b[1m 0.115\u001b[0m)   grad norms: G ( 7.304  0.000) D ( 2.149  0.807)   time \u001b[1m12h 09m 35s\u001b[0m sec/kimg  179.72 maxGPU  7.5GB \u001b[1mclevr-scratch\u001b[0m \n",
      "tick \u001b[1m29   \u001b[0m kimg \u001b[1m\u001b[31m   838.0\u001b[0m   loss/reg: G (\u001b[1m\u001b[34m 1.309\u001b[0m \u001b[1m 0.000\u001b[0m) D (\u001b[1m\u001b[34m 0.857\u001b[0m \u001b[1m 0.121\u001b[0m)   grad norms: G ( 7.508  0.000) D ( 2.149  0.809)   time \u001b[1m12h 33m 43s\u001b[0m sec/kimg  179.62 maxGPU  7.5GB \u001b[1mclevr-scratch\u001b[0m \n",
      "tick \u001b[1m30   \u001b[0m kimg \u001b[1m\u001b[31m   846.0\u001b[0m   loss/reg: G (\u001b[1m\u001b[34m 1.375\u001b[0m \u001b[1m 0.000\u001b[0m) D (\u001b[1m\u001b[34m 0.834\u001b[0m \u001b[1m 0.127\u001b[0m)   grad norms: G ( 8.356  0.000) D ( 2.145  0.813)   time \u001b[1m12h 57m 53s\u001b[0m sec/kimg  179.77 maxGPU  7.5GB \u001b[1mclevr-scratch\u001b[0m \n",
      "network-snapshot-000846        time 4m 54s      \u001b[1m\u001b[34m fid 43.5465   \u001b[0m\n",
      "tick \u001b[1m31   \u001b[0m kimg \u001b[1m\u001b[31m   854.1\u001b[0m   loss/reg: G (\u001b[1m\u001b[34m 1.386\u001b[0m \u001b[1m 0.000\u001b[0m) D (\u001b[1m\u001b[34m 0.816\u001b[0m \u001b[1m 0.131\u001b[0m)   grad norms: G ( 8.619  0.000) D ( 2.122  0.820)   time \u001b[1m13h 27m 04s\u001b[0m sec/kimg  179.65 maxGPU  7.5GB \u001b[1mclevr-scratch\u001b[0m \n",
      "tick \u001b[1m32   \u001b[0m kimg \u001b[1m\u001b[31m   862.2\u001b[0m   loss/reg: G (\u001b[1m\u001b[34m 1.301\u001b[0m \u001b[1m 0.000\u001b[0m) D (\u001b[1m\u001b[34m 0.895\u001b[0m \u001b[1m 0.105\u001b[0m)   grad norms: G ( 7.186  0.000) D ( 1.948  0.824)   time \u001b[1m13h 51m 12s\u001b[0m sec/kimg  179.66 maxGPU  7.5GB \u001b[1mclevr-scratch\u001b[0m \n",
      "tick \u001b[1m33   \u001b[0m kimg \u001b[1m\u001b[31m   870.2\u001b[0m   loss/reg: G (\u001b[1m\u001b[34m 1.289\u001b[0m \u001b[1m 0.000\u001b[0m) D (\u001b[1m\u001b[34m 0.907\u001b[0m \u001b[1m 0.108\u001b[0m)   grad norms: G ( 7.083  0.000) D ( 2.085  0.824)   time \u001b[1m14h 15m 20s\u001b[0m sec/kimg  179.47 maxGPU  7.5GB \u001b[1mclevr-scratch\u001b[0m \n",
      "network-snapshot-000870        time 4m 51s      \u001b[1m\u001b[34m fid 43.4237   \u001b[0m\n",
      "tick \u001b[1m34   \u001b[0m kimg \u001b[1m\u001b[31m   878.3\u001b[0m   loss/reg: G (\u001b[1m\u001b[34m 1.287\u001b[0m \u001b[1m 0.000\u001b[0m) D (\u001b[1m\u001b[34m 0.910\u001b[0m \u001b[1m 0.112\u001b[0m)   grad norms: G ( 7.671  0.000) D ( 2.113  0.830)   time \u001b[1m14h 44m 25s\u001b[0m sec/kimg  179.44 maxGPU  7.5GB \u001b[1mclevr-scratch\u001b[0m \n",
      "tick \u001b[1m35   \u001b[0m kimg \u001b[1m\u001b[31m   886.4\u001b[0m   loss/reg: G (\u001b[1m\u001b[34m 1.319\u001b[0m \u001b[1m 0.000\u001b[0m) D (\u001b[1m\u001b[34m 0.877\u001b[0m \u001b[1m 0.109\u001b[0m)   grad norms: G ( 7.468  0.000) D ( 2.082  0.838)   time \u001b[1m15h 08m 32s\u001b[0m sec/kimg  179.47 maxGPU  7.5GB \u001b[1mclevr-scratch\u001b[0m \n",
      "tick \u001b[1m36   \u001b[0m kimg \u001b[1m\u001b[31m   894.4\u001b[0m   loss/reg: G (\u001b[1m\u001b[34m 1.306\u001b[0m \u001b[1m 0.000\u001b[0m) D (\u001b[1m\u001b[34m 0.901\u001b[0m \u001b[1m 0.111\u001b[0m)   grad norms: G ( 7.678  0.000) D ( 2.194  0.850)   time \u001b[1m15h 32m 39s\u001b[0m sec/kimg  179.47 maxGPU  7.5GB \u001b[1mclevr-scratch\u001b[0m \n",
      "network-snapshot-000894        time 4m 55s      \u001b[1m\u001b[34m fid 40.3097   \u001b[0m\n",
      "tick \u001b[1m37   \u001b[0m kimg \u001b[1m\u001b[31m   902.5\u001b[0m   loss/reg: G (\u001b[1m\u001b[34m 1.273\u001b[0m \u001b[1m 0.000\u001b[0m) D (\u001b[1m\u001b[34m 0.911\u001b[0m \u001b[1m 0.118\u001b[0m)   grad norms: G ( 7.989  0.000) D ( 2.283  0.866)   time \u001b[1m16h 01m 47s\u001b[0m sec/kimg  179.20 maxGPU  7.5GB \u001b[1mclevr-scratch\u001b[0m \n",
      "tick \u001b[1m38   \u001b[0m kimg \u001b[1m\u001b[31m   910.6\u001b[0m   loss/reg: G (\u001b[1m\u001b[34m 1.299\u001b[0m \u001b[1m 0.000\u001b[0m) D (\u001b[1m\u001b[34m 0.893\u001b[0m \u001b[1m 0.127\u001b[0m)   grad norms: G ( 8.052  0.000) D ( 2.213  0.861)   time \u001b[1m16h 25m 54s\u001b[0m sec/kimg  179.43 maxGPU  7.5GB \u001b[1mclevr-scratch\u001b[0m \n",
      "tick \u001b[1m39   \u001b[0m kimg \u001b[1m\u001b[31m   918.6\u001b[0m   loss/reg: G (\u001b[1m\u001b[34m 1.284\u001b[0m \u001b[1m 0.000\u001b[0m) D (\u001b[1m\u001b[34m 0.910\u001b[0m \u001b[1m 0.114\u001b[0m)   grad norms: G ( 6.932  0.000) D ( 2.019  0.880)   time \u001b[1m16h 50m 03s\u001b[0m sec/kimg  179.72 maxGPU  7.5GB \u001b[1mclevr-scratch\u001b[0m \n",
      "network-snapshot-000918        time 4m 51s      \u001b[1m\u001b[34m fid 41.2386   \u001b[0m\n",
      "tick \u001b[1m40   \u001b[0m kimg \u001b[1m\u001b[31m   926.7\u001b[0m   loss/reg: G (\u001b[1m\u001b[34m 1.346\u001b[0m \u001b[1m 0.000\u001b[0m) D (\u001b[1m\u001b[34m 0.895\u001b[0m \u001b[1m 0.117\u001b[0m)   grad norms: G ( 7.669  0.000) D ( 2.111  0.910)   time \u001b[1m17h 19m 16s\u001b[0m sec/kimg  180.16 maxGPU  7.5GB \u001b[1mclevr-scratch\u001b[0m \n",
      "tick \u001b[1m41   \u001b[0m kimg \u001b[1m\u001b[31m   934.8\u001b[0m   loss/reg: G (\u001b[1m\u001b[34m 1.311\u001b[0m \u001b[1m 0.000\u001b[0m) D (\u001b[1m\u001b[34m 0.886\u001b[0m \u001b[1m 0.123\u001b[0m)   grad norms: G ( 7.455  0.000) D ( 2.162  0.931)   time \u001b[1m17h 43m 28s\u001b[0m sec/kimg  180.09 maxGPU  7.5GB \u001b[1mclevr-scratch\u001b[0m \n",
      "tick \u001b[1m42   \u001b[0m kimg \u001b[1m\u001b[31m   942.8\u001b[0m   loss/reg: G (\u001b[1m\u001b[34m 1.313\u001b[0m \u001b[1m 0.000\u001b[0m) D (\u001b[1m\u001b[34m 0.868\u001b[0m \u001b[1m 0.119\u001b[0m)   grad norms: G ( 7.199  0.000) D ( 2.003  0.950)   time \u001b[1m18h 07m 42s\u001b[0m sec/kimg  180.35 maxGPU  7.5GB \u001b[1mclevr-scratch\u001b[0m \n",
      "network-snapshot-000942        time 4m 51s      \u001b[1m\u001b[34m fid 41.6712   \u001b[0m\n",
      "tick \u001b[1m43   \u001b[0m kimg \u001b[1m\u001b[31m   950.9\u001b[0m   loss/reg: G (\u001b[1m\u001b[34m 1.278\u001b[0m \u001b[1m 0.000\u001b[0m) D (\u001b[1m\u001b[34m 0.886\u001b[0m \u001b[1m 0.116\u001b[0m)   grad norms: G ( 6.793  0.000) D ( 2.054  0.971)   time \u001b[1m18h 37m 00s\u001b[0m sec/kimg  180.64 maxGPU  7.5GB \u001b[1mclevr-scratch\u001b[0m \n",
      "tick \u001b[1m44   \u001b[0m kimg \u001b[1m\u001b[31m   958.9\u001b[0m   loss/reg: G (\u001b[1m\u001b[34m 1.339\u001b[0m \u001b[1m 0.000\u001b[0m) D (\u001b[1m\u001b[34m 0.886\u001b[0m \u001b[1m 0.128\u001b[0m)   grad norms: G ( 8.302  0.000) D ( 2.378  1.001)   time \u001b[1m19h 01m 17s\u001b[0m sec/kimg  180.76 maxGPU  7.5GB \u001b[1mclevr-scratch\u001b[0m \n",
      "tick \u001b[1m45   \u001b[0m kimg \u001b[1m\u001b[31m   967.0\u001b[0m   loss/reg: G (\u001b[1m\u001b[34m 1.303\u001b[0m \u001b[1m 0.000\u001b[0m) D (\u001b[1m\u001b[34m 0.885\u001b[0m \u001b[1m 0.115\u001b[0m)   grad norms: G ( 7.502  0.000) D ( 2.129  1.014)   time \u001b[1m19h 25m 34s\u001b[0m sec/kimg  180.64 maxGPU  7.5GB \u001b[1mclevr-scratch\u001b[0m \n",
      "network-snapshot-000967        time 4m 52s      \u001b[1m\u001b[34m fid 37.4311   \u001b[0m\n",
      "tick \u001b[1m46   \u001b[0m kimg \u001b[1m\u001b[31m   975.1\u001b[0m   loss/reg: G (\u001b[1m\u001b[34m 1.320\u001b[0m \u001b[1m 0.000\u001b[0m) D (\u001b[1m\u001b[34m 0.893\u001b[0m \u001b[1m 0.110\u001b[0m)   grad norms: G ( 6.743  0.000) D ( 1.966  1.000)   time \u001b[1m19h 54m 54s\u001b[0m sec/kimg  180.89 maxGPU  7.5GB \u001b[1mclevr-scratch\u001b[0m \n",
      "tick \u001b[1m47   \u001b[0m kimg \u001b[1m\u001b[31m   983.1\u001b[0m   loss/reg: G (\u001b[1m\u001b[34m 1.308\u001b[0m \u001b[1m 0.000\u001b[0m) D (\u001b[1m\u001b[34m 0.887\u001b[0m \u001b[1m 0.114\u001b[0m)   grad norms: G ( 7.530  0.000) D ( 2.086  1.021)   time \u001b[1m20h 19m 13s\u001b[0m sec/kimg  180.99 maxGPU  7.5GB \u001b[1mclevr-scratch\u001b[0m \n",
      "tick \u001b[1m48   \u001b[0m kimg \u001b[1m\u001b[31m   991.2\u001b[0m   loss/reg: G (\u001b[1m\u001b[34m 1.256\u001b[0m \u001b[1m 0.000\u001b[0m) D (\u001b[1m\u001b[34m 0.927\u001b[0m \u001b[1m 0.114\u001b[0m)   grad norms: G ( 7.107  0.000) D ( 2.119  1.016)   time \u001b[1m20h 43m 33s\u001b[0m sec/kimg  180.99 maxGPU  7.5GB \u001b[1mclevr-scratch\u001b[0m \n",
      "network-snapshot-000991        time 4m 59s      \u001b[1m\u001b[34m fid 39.1809   \u001b[0m\n"
     ]
    },
    {
     "name": "stdout",
     "output_type": "stream",
     "text": [
      "tick \u001b[1m49   \u001b[0m kimg \u001b[1m\u001b[31m   999.3\u001b[0m   loss/reg: G (\u001b[1m\u001b[34m 1.261\u001b[0m \u001b[1m 0.000\u001b[0m) D (\u001b[1m\u001b[34m 0.908\u001b[0m \u001b[1m 0.121\u001b[0m)   grad norms: G ( 7.488  0.000) D ( 2.255  1.046)   time \u001b[1m21h 12m 54s\u001b[0m sec/kimg  180.20 maxGPU  7.5GB \u001b[1mclevr-scratch\u001b[0m \n",
      "tick \u001b[1m50   \u001b[0m kimg \u001b[1m\u001b[31m  1007.3\u001b[0m   loss/reg: G (\u001b[1m\u001b[34m 1.260\u001b[0m \u001b[1m 0.000\u001b[0m) D (\u001b[1m\u001b[34m 0.899\u001b[0m \u001b[1m 0.114\u001b[0m)   grad norms: G ( 7.450  0.000) D ( 2.162  1.038)   time \u001b[1m21h 37m 11s\u001b[0m sec/kimg  180.59 maxGPU  7.5GB \u001b[1mclevr-scratch\u001b[0m \n",
      "tick \u001b[1m51   \u001b[0m kimg \u001b[1m\u001b[31m  1015.4\u001b[0m   loss/reg: G (\u001b[1m\u001b[34m 1.298\u001b[0m \u001b[1m 0.000\u001b[0m) D (\u001b[1m\u001b[34m 0.900\u001b[0m \u001b[1m 0.106\u001b[0m)   grad norms: G ( 7.554  0.000) D ( 2.050  1.038)   time \u001b[1m22h 01m 29s\u001b[0m sec/kimg  180.82 maxGPU  7.5GB \u001b[1mclevr-scratch\u001b[0m \n",
      "network-snapshot-001015        time 4m 49s      \u001b[1m\u001b[34m fid 37.1312   \u001b[0m\n",
      "tick \u001b[1m52   \u001b[0m kimg \u001b[1m\u001b[31m  1023.5\u001b[0m   loss/reg: G (\u001b[1m\u001b[34m 1.332\u001b[0m \u001b[1m 0.000\u001b[0m) D (\u001b[1m\u001b[34m 0.859\u001b[0m \u001b[1m 0.108\u001b[0m)   grad norms: G ( 8.587  0.000) D ( 2.090  1.033)   time \u001b[1m22h 30m 35s\u001b[0m sec/kimg  179.52 maxGPU  7.5GB \u001b[1mclevr-scratch\u001b[0m \n",
      "tick \u001b[1m53   \u001b[0m kimg \u001b[1m\u001b[31m  1031.5\u001b[0m   loss/reg: G (\u001b[1m\u001b[34m 1.387\u001b[0m \u001b[1m 0.000\u001b[0m) D (\u001b[1m\u001b[34m 0.856\u001b[0m \u001b[1m 0.131\u001b[0m)   grad norms: G ( 9.331  0.000) D ( 2.227  1.057)   time \u001b[1m22h 54m 46s\u001b[0m sec/kimg  179.89 maxGPU  7.5GB \u001b[1mclevr-scratch\u001b[0m \n",
      "tick \u001b[1m54   \u001b[0m kimg \u001b[1m\u001b[31m  1039.6\u001b[0m   loss/reg: G (\u001b[1m\u001b[34m 1.278\u001b[0m \u001b[1m 0.000\u001b[0m) D (\u001b[1m\u001b[34m 0.899\u001b[0m \u001b[1m 0.113\u001b[0m)   grad norms: G ( 7.341  0.000) D ( 2.072  1.071)   time \u001b[1m23h 18m 57s\u001b[0m sec/kimg  179.92 maxGPU  7.5GB \u001b[1mclevr-scratch\u001b[0m \n",
      "network-snapshot-001039        time 4m 49s      \u001b[1m\u001b[34m fid 38.0846   \u001b[0m\n",
      "tick \u001b[1m55   \u001b[0m kimg \u001b[1m\u001b[31m  1047.6\u001b[0m   loss/reg: G (\u001b[1m\u001b[34m 1.253\u001b[0m \u001b[1m 0.000\u001b[0m) D (\u001b[1m\u001b[34m 0.917\u001b[0m \u001b[1m 0.110\u001b[0m)   grad norms: G ( 7.112  0.000) D ( 2.042  1.055)   time \u001b[1m23h 48m 07s\u001b[0m sec/kimg  179.95 maxGPU  7.5GB \u001b[1mclevr-scratch\u001b[0m \n",
      "tick \u001b[1m56   \u001b[0m kimg \u001b[1m\u001b[31m  1055.7\u001b[0m   loss/reg: G (\u001b[1m\u001b[34m 1.221\u001b[0m \u001b[1m 0.000\u001b[0m) D (\u001b[1m\u001b[34m 0.919\u001b[0m \u001b[1m 0.105\u001b[0m)   grad norms: G ( 6.954  0.000) D ( 1.967  1.052)   time \u001b[1m1d 00h 12m\u001b[0m sec/kimg  179.82 maxGPU  7.5GB \u001b[1mclevr-scratch\u001b[0m \n",
      "tick \u001b[1m57   \u001b[0m kimg \u001b[1m\u001b[31m  1063.8\u001b[0m   loss/reg: G (\u001b[1m\u001b[34m 1.276\u001b[0m \u001b[1m 0.000\u001b[0m) D (\u001b[1m\u001b[34m 0.921\u001b[0m \u001b[1m 0.111\u001b[0m)   grad norms: G ( 8.334  0.000) D ( 2.208  1.062)   time \u001b[1m1d 00h 36m\u001b[0m sec/kimg  179.68 maxGPU  7.5GB \u001b[1mclevr-scratch\u001b[0m \n",
      "network-snapshot-001063        time 4m 51s      \u001b[1m\u001b[34m fid 36.5498   \u001b[0m\n",
      "tick \u001b[1m58   \u001b[0m kimg \u001b[1m\u001b[31m  1071.8\u001b[0m   loss/reg: G (\u001b[1m\u001b[34m 1.198\u001b[0m \u001b[1m 0.000\u001b[0m) D (\u001b[1m\u001b[34m 0.935\u001b[0m \u001b[1m 0.103\u001b[0m)   grad norms: G ( 7.670  0.000) D ( 2.048  1.074)   time \u001b[1m1d 01h 05m\u001b[0m sec/kimg  180.17 maxGPU  7.5GB \u001b[1mclevr-scratch\u001b[0m \n",
      "tick \u001b[1m59   \u001b[0m kimg \u001b[1m\u001b[31m  1079.9\u001b[0m   loss/reg: G (\u001b[1m\u001b[34m 1.245\u001b[0m \u001b[1m 0.000\u001b[0m) D (\u001b[1m\u001b[34m 0.906\u001b[0m \u001b[1m 0.109\u001b[0m)   grad norms: G ( 7.727  0.000) D ( 2.017  1.078)   time \u001b[1m1d 01h 30m\u001b[0m sec/kimg  186.37 maxGPU  7.5GB \u001b[1mclevr-scratch\u001b[0m \n",
      "tick \u001b[1m60   \u001b[0m kimg \u001b[1m\u001b[31m  1088.0\u001b[0m   loss/reg: G (\u001b[1m\u001b[34m 1.229\u001b[0m \u001b[1m 0.000\u001b[0m) D (\u001b[1m\u001b[34m 0.948\u001b[0m \u001b[1m 0.102\u001b[0m)   grad norms: G ( 7.134  0.000) D ( 2.013  1.057)   time \u001b[1m1d 01h 56m\u001b[0m sec/kimg  188.22 maxGPU  7.5GB \u001b[1mclevr-scratch\u001b[0m \n",
      "network-snapshot-001087        time 5m 10s      \u001b[1m\u001b[34m fid 36.5809   \u001b[0m\n",
      "^C\n"
     ]
    }
   ],
   "source": [
    "!python run_network.py \\\n",
    "--train \\\n",
    "--gpus 0 \\\n",
    "--ganformer-default \\\n",
    "--expname clevr-scratch \\ # Pick up from previous experiment\n",
    "--dataset headct \\\n",
    "--eval-images-num 10000 \\\n",
    "--keep-samples True \\\n",
    "--metrics fid"
   ]
  },
  {
   "cell_type": "markdown",
   "metadata": {},
   "source": [
    "-------------------\n",
    "# Generate Samples for Classifier"
   ]
  },
  {
   "cell_type": "code",
   "execution_count": 36,
   "metadata": {},
   "outputs": [
    {
     "name": "stdout",
     "output_type": "stream",
     "text": [
      "Loading networks...\n",
      "Setting up TensorFlow plugin 'fused_bias_act.cu': Loading... Done.\n",
      "Setting up TensorFlow plugin 'upfirdn_2d.cu': Loading... Done.\n",
      "\n",
      "\u001b[1m\u001b[34mGs                                           Params    OutputShape         WeightShape     \u001b[0m\n",
      "---                                          ---       ---                 ---             \n",
      "\u001b[1mltnt_emb/emb\u001b[0m                                 512       (16, 32)            (16, 32)        \n",
      "\u001b[1mG_mapping/AttLayer_0\u001b[0m                         6336      (?, 32)             -               \n",
      "\u001b[1mG_mapping/Dense0_0\u001b[0m                           1056      (?, 32)             (32, 32)        \n",
      "\u001b[1mG_mapping/Dense0_1\u001b[0m                           1056      (?, 32)             (32, 32)        \n",
      "\u001b[1mG_mapping/AttLayer_1\u001b[0m                         6336      (?, 32)             -               \n",
      "\u001b[1mG_mapping/Dense1_0\u001b[0m                           1056      (?, 32)             (32, 32)        \n",
      "\u001b[1mG_mapping/Dense1_1\u001b[0m                           1056      (?, 32)             (32, 32)        \n",
      "\u001b[1mG_mapping/AttLayer_2\u001b[0m                         6336      (?, 32)             -               \n",
      "\u001b[1mG_mapping/Dense2_0\u001b[0m                           1056      (?, 32)             (32, 32)        \n",
      "\u001b[1mG_mapping/Dense2_1\u001b[0m                           1056      (?, 32)             (32, 32)        \n",
      "\u001b[1mG_mapping/AttLayer_3\u001b[0m                         6336      (?, 32)             -               \n",
      "\u001b[1mG_mapping/Dense3_0\u001b[0m                           1056      (?, 32)             (32, 32)        \n",
      "\u001b[1mG_mapping/Dense3_1\u001b[0m                           1056      (?, 32)             (32, 32)        \n",
      "\u001b[1mG_mapping/Dense3\u001b[0m                             1056      (?, 32)             (32, 32)        \n",
      "\u001b[1mG_mapping/global\u001b[0m                             9504      (?, 32)             (32, 32)        \n",
      "\u001b[1mG_synthesis/4x4/Const\u001b[0m                        8192      (?, 512, 4, 4)      (1, 512, 4, 4)  \n",
      "\u001b[1mG_synthesis/4x4/Conv/AttLayer_l2n\u001b[0m            610304    (?, 512)            -               \n",
      "\u001b[1mG_synthesis/4x4/Conv/weight\u001b[0m                  2359296   (3, 3, 512, 512)    (3, 3, 512, 512)\n",
      "\u001b[1mG_synthesis/4x4/Conv/mod_weight\u001b[0m              16384     (32, 512)           (32, 512)       \n",
      "\u001b[1mG_synthesis/4x4/Conv/mod_bias\u001b[0m                512       (512,)              (512,)          \n",
      "\u001b[1mG_synthesis/4x4/Conv/noise_strength\u001b[0m          1         ()                  ()              \n",
      "\u001b[1mG_synthesis/4x4/Conv/bias\u001b[0m                    512       (512,)              (512,)          \n",
      "\u001b[1mG_synthesis/8x8/Conv0_up/AttLayer_l2n\u001b[0m        610304    (?, 512)            -               \n",
      "\u001b[1mG_synthesis/8x8/Conv0_up/weight\u001b[0m              2359296   (3, 3, 512, 512)    (3, 3, 512, 512)\n",
      "\u001b[1mG_synthesis/8x8/Conv0_up/mod_weight\u001b[0m          16384     (32, 512)           (32, 512)       \n",
      "\u001b[1mG_synthesis/8x8/Conv0_up/mod_bias\u001b[0m            512       (512,)              (512,)          \n",
      "\u001b[1mG_synthesis/8x8/Conv0_up/noise_strength\u001b[0m      1         ()                  ()              \n",
      "\u001b[1mG_synthesis/8x8/Conv0_up/bias\u001b[0m                512       (512,)              (512,)          \n",
      "\u001b[1mG_synthesis/8x8/Conv1/AttLayer_l2n\u001b[0m           610304    (?, 512)            -               \n",
      "\u001b[1mG_synthesis/8x8/Conv1/weight\u001b[0m                 2359296   (3, 3, 512, 512)    (3, 3, 512, 512)\n",
      "\u001b[1mG_synthesis/8x8/Conv1/mod_weight\u001b[0m             16384     (32, 512)           (32, 512)       \n",
      "\u001b[1mG_synthesis/8x8/Conv1/mod_bias\u001b[0m               512       (512,)              (512,)          \n",
      "\u001b[1mG_synthesis/8x8/Conv1/noise_strength\u001b[0m         1         ()                  ()              \n",
      "\u001b[1mG_synthesis/8x8/Conv1/bias\u001b[0m                   512       (512,)              (512,)          \n",
      "\u001b[1mG_synthesis/8x8/Skip\u001b[0m                         262144    (?, 512, 8, 8)      (1, 1, 512, 512)\n",
      "\u001b[1mG_synthesis/16x16/Conv0_up/AttLayer_l2n\u001b[0m      610304    (?, 512)            -               \n",
      "\u001b[1mG_synthesis/16x16/Conv0_up/weight\u001b[0m            2359296   (3, 3, 512, 512)    (3, 3, 512, 512)\n",
      "\u001b[1mG_synthesis/16x16/Conv0_up/mod_weight\u001b[0m        16384     (32, 512)           (32, 512)       \n",
      "\u001b[1mG_synthesis/16x16/Conv0_up/mod_bias\u001b[0m          512       (512,)              (512,)          \n",
      "\u001b[1mG_synthesis/16x16/Conv0_up/noise_strength\u001b[0m    1         ()                  ()              \n",
      "\u001b[1mG_synthesis/16x16/Conv0_up/bias\u001b[0m              512       (512,)              (512,)          \n",
      "\u001b[1mG_synthesis/16x16/Conv1/AttLayer_l2n\u001b[0m         610304    (?, 512)            -               \n",
      "\u001b[1mG_synthesis/16x16/Conv1/weight\u001b[0m               2359296   (3, 3, 512, 512)    (3, 3, 512, 512)\n",
      "\u001b[1mG_synthesis/16x16/Conv1/mod_weight\u001b[0m           16384     (32, 512)           (32, 512)       \n",
      "\u001b[1mG_synthesis/16x16/Conv1/mod_bias\u001b[0m             512       (512,)              (512,)          \n",
      "\u001b[1mG_synthesis/16x16/Conv1/noise_strength\u001b[0m       1         ()                  ()              \n",
      "\u001b[1mG_synthesis/16x16/Conv1/bias\u001b[0m                 512       (512,)              (512,)          \n",
      "\u001b[1mG_synthesis/16x16/Skip\u001b[0m                       262144    (?, 512, 16, 16)    (1, 1, 512, 512)\n",
      "\u001b[1mG_synthesis/32x32/Conv0_up/AttLayer_l2n\u001b[0m      610304    (?, 512)            -               \n",
      "\u001b[1mG_synthesis/32x32/Conv0_up/weight\u001b[0m            2359296   (3, 3, 512, 512)    (3, 3, 512, 512)\n",
      "\u001b[1mG_synthesis/32x32/Conv0_up/mod_weight\u001b[0m        16384     (32, 512)           (32, 512)       \n",
      "\u001b[1mG_synthesis/32x32/Conv0_up/mod_bias\u001b[0m          512       (512,)              (512,)          \n",
      "\u001b[1mG_synthesis/32x32/Conv0_up/noise_strength\u001b[0m    1         ()                  ()              \n",
      "\u001b[1mG_synthesis/32x32/Conv0_up/bias\u001b[0m              512       (512,)              (512,)          \n",
      "\u001b[1mG_synthesis/32x32/Conv1/AttLayer_l2n\u001b[0m         610304    (?, 512)            -               \n",
      "\u001b[1mG_synthesis/32x32/Conv1/weight\u001b[0m               2359296   (3, 3, 512, 512)    (3, 3, 512, 512)\n",
      "\u001b[1mG_synthesis/32x32/Conv1/mod_weight\u001b[0m           16384     (32, 512)           (32, 512)       \n",
      "\u001b[1mG_synthesis/32x32/Conv1/mod_bias\u001b[0m             512       (512,)              (512,)          \n",
      "\u001b[1mG_synthesis/32x32/Conv1/noise_strength\u001b[0m       1         ()                  ()              \n",
      "\u001b[1mG_synthesis/32x32/Conv1/bias\u001b[0m                 512       (512,)              (512,)          \n",
      "\u001b[1mG_synthesis/32x32/Skip\u001b[0m                       262144    (?, 512, 32, 32)    (1, 1, 512, 512)\n",
      "\u001b[1mG_synthesis/64x64/Conv0_up/AttLayer_l2n\u001b[0m      610304    (?, 512)            -               \n",
      "\u001b[1mG_synthesis/64x64/Conv0_up/weight\u001b[0m            2359296   (3, 3, 512, 512)    (3, 3, 512, 512)\n",
      "\u001b[1mG_synthesis/64x64/Conv0_up/mod_weight\u001b[0m        16384     (32, 512)           (32, 512)       \n",
      "\u001b[1mG_synthesis/64x64/Conv0_up/mod_bias\u001b[0m          512       (512,)              (512,)          \n",
      "\u001b[1mG_synthesis/64x64/Conv0_up/noise_strength\u001b[0m    1         ()                  ()              \n",
      "\u001b[1mG_synthesis/64x64/Conv0_up/bias\u001b[0m              512       (512,)              (512,)          \n",
      "\u001b[1mG_synthesis/64x64/Conv1/AttLayer_l2n\u001b[0m         610304    (?, 512)            -               \n",
      "\u001b[1mG_synthesis/64x64/Conv1/weight\u001b[0m               2359296   (3, 3, 512, 512)    (3, 3, 512, 512)\n",
      "\u001b[1mG_synthesis/64x64/Conv1/mod_weight\u001b[0m           16384     (32, 512)           (32, 512)       \n",
      "\u001b[1mG_synthesis/64x64/Conv1/mod_bias\u001b[0m             512       (512,)              (512,)          \n",
      "\u001b[1mG_synthesis/64x64/Conv1/noise_strength\u001b[0m       1         ()                  ()              \n",
      "\u001b[1mG_synthesis/64x64/Conv1/bias\u001b[0m                 512       (512,)              (512,)          \n",
      "\u001b[1mG_synthesis/64x64/Skip\u001b[0m                       262144    (?, 512, 64, 64)    (1, 1, 512, 512)\n",
      "\u001b[1mG_synthesis/128x128/Conv0_up/AttLayer_l2n\u001b[0m    174080    (?, 256)            -               \n",
      "\u001b[1mG_synthesis/128x128/Conv0_up/weight\u001b[0m          1179648   (3, 3, 512, 256)    (3, 3, 512, 256)\n",
      "\u001b[1mG_synthesis/128x128/Conv0_up/mod_weight\u001b[0m      16384     (32, 512)           (32, 512)       \n",
      "\u001b[1mG_synthesis/128x128/Conv0_up/mod_bias\u001b[0m        512       (512,)              (512,)          \n",
      "\u001b[1mG_synthesis/128x128/Conv0_up/noise_strength\u001b[0m  1         ()                  ()              \n",
      "\u001b[1mG_synthesis/128x128/Conv0_up/bias\u001b[0m            256       (256,)              (256,)          \n",
      "\u001b[1mG_synthesis/128x128/Conv1/AttLayer_l2n\u001b[0m       174080    (?, 256)            -               \n",
      "\u001b[1mG_synthesis/128x128/Conv1/weight\u001b[0m             589824    (3, 3, 256, 256)    (3, 3, 256, 256)\n",
      "\u001b[1mG_synthesis/128x128/Conv1/mod_weight\u001b[0m         8192      (32, 256)           (32, 256)       \n",
      "\u001b[1mG_synthesis/128x128/Conv1/mod_bias\u001b[0m           256       (256,)              (256,)          \n",
      "\u001b[1mG_synthesis/128x128/Conv1/noise_strength\u001b[0m     1         ()                  ()              \n",
      "\u001b[1mG_synthesis/128x128/Conv1/bias\u001b[0m               256       (256,)              (256,)          \n",
      "\u001b[1mG_synthesis/128x128/Skip\u001b[0m                     131072    (?, 256, 128, 128)  (1, 1, 512, 256)\n",
      "\u001b[1mG_synthesis/256x256\u001b[0m                          644357    (?, 3, 256, 256)    (1, 1, 256, 128)\n",
      "---                                          ---       ---                 ---             \n",
      "\u001b[1m\u001b[31mTotal                                        30903632                                      \u001b[0m\n",
      "\n",
      "Generate images...\n"
     ]
    },
    {
     "name": "stdout",
     "output_type": "stream",
     "text": [
      "100%|██████████| 1000/1000 [01:49<00:00,  9.16image (125 batches of 8 images)/s]\n",
      "Saving images...\n",
      "100%|███████████████████████████████████████| 1000/1000 [00:13<00:00, 72.59it/s]\n"
     ]
    }
   ],
   "source": [
    "!python generate.py --gpus 0 --model network-snapshot-001087.pkl --output-dir finals --images-num 1000"
   ]
  },
  {
   "cell_type": "code",
   "execution_count": null,
   "metadata": {},
   "outputs": [],
   "source": []
  }
 ],
 "metadata": {
  "kernelspec": {
   "display_name": "Python 3",
   "language": "python",
   "name": "python3"
  },
  "language_info": {
   "codemirror_mode": {
    "name": "ipython",
    "version": 3
   },
   "file_extension": ".py",
   "mimetype": "text/x-python",
   "name": "python",
   "nbconvert_exporter": "python",
   "pygments_lexer": "ipython3",
   "version": "3.6.9"
  }
 },
 "nbformat": 4,
 "nbformat_minor": 4
}
